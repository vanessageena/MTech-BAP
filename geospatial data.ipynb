{
 "cells": [
  {
   "cell_type": "code",
   "execution_count": null,
   "id": "e29494e4-2dd3-4aa4-9af2-2f99d342fdd2",
   "metadata": {},
   "outputs": [],
   "source": [
    "##1. plotting all the restos on a map"
   ]
  },
  {
   "cell_type": "code",
   "execution_count": null,
   "id": "6601476d-88bc-4570-ad3e-1b4ec946d168",
   "metadata": {},
   "outputs": [],
   "source": [
    "!pip install pandas folium"
   ]
  },
  {
   "cell_type": "code",
   "execution_count": null,
   "id": "84cf70cc-e496-4f1c-b5c6-3fc3f6e73769",
   "metadata": {},
   "outputs": [],
   "source": [
    "import pandas as pd\n",
    "import os\n",
    "\n",
    "# Use the lines=True parameter to read JSON Lines format\n",
    "df = pd.read_json('/Users/comanetan/Downloads/yelp_academic_dataset_restaurants.json', lines=True)\n",
    "\n",
    "# Display the first 5 rows of the DataFrame\n",
    "print(df.head())\n"
   ]
  },
  {
   "cell_type": "code",
   "execution_count": null,
   "id": "3d6a5e00-18cf-455a-ab76-66e5c26b7ca0",
   "metadata": {},
   "outputs": [],
   "source": [
    "# check for null values in lat and long\n",
    "print(\"Checking for null values before cleaning:\")\n",
    "print(df[['latitude', 'longitude']].isnull().sum())\n",
    "\n",
    "# remove rows with null values. create a new DataFrame that drops rows where either 'latitude' or 'longitude' is missing.\n",
    "df_cleaned = df.dropna(subset=['latitude', 'longitude'])\n",
    "\n",
    "# cleaning verifcation, how many rows removed\n",
    "print(f\"\\nOriginal DataFrame shape: {df.shape}\")\n",
    "print(f\"Cleaned DataFrame shape:  {df_cleaned.shape}\")\n"
   ]
  },
  {
   "cell_type": "code",
   "execution_count": null,
   "id": "db02701f-7df5-4666-8446-0a33eab58c32",
   "metadata": {},
   "outputs": [],
   "source": [
    "import folium\n",
    "\n",
    "# find center of the map\n",
    "map_center = [df['latitude'].mean(), df['longitude'].mean()]\n",
    "\n",
    "# Create a map object\n",
    "m = folium.Map(location=map_center, zoom_start=11)\n",
    "\n",
    "# Display the map \n",
    "m"
   ]
  },
  {
   "cell_type": "code",
   "execution_count": null,
   "id": "c45caa00-62d2-44ad-ba89-19938f0338f2",
   "metadata": {},
   "outputs": [],
   "source": [
    "# Create a new map object\n",
    "m_points = folium.Map(location=map_center, zoom_start=11)\n",
    "\n",
    "# Add a marker for each restaurant\n",
    "for idx, row in df.head(60000).iterrows():\n",
    "    folium.CircleMarker(\n",
    "        location=[row['latitude'], row['longitude']],\n",
    "        radius=3,\n",
    "        color='#3186cc',\n",
    "        fill=True,\n",
    "        fill_color='#3186cc',\n",
    "        # Add a popup with the restaurant's name\n",
    "        popup=row['name']\n",
    "    ).add_to(m_points)\n",
    "\n",
    "# Display the map\n",
    "m_points"
   ]
  },
  {
   "cell_type": "code",
   "execution_count": null,
   "id": "3967b70d-c225-4bda-8957-515dfe0a5989",
   "metadata": {
    "scrolled": true
   },
   "outputs": [],
   "source": [
    "## Create heatmap\n",
    "from folium.plugins import HeatMap\n",
    "\n",
    "# Create a list of [latitude, longitude] pairs\n",
    "heat_data = df[['latitude', 'longitude']].values.tolist()\n",
    "\n",
    "# Create a new map\n",
    "m_heatmap = folium.Map(location=map_center, zoom_start=11)\n",
    "\n",
    "# Add the heatmap layer\n",
    "HeatMap(heat_data).add_to(m_heatmap)\n",
    "\n",
    "# Display the map\n",
    "m_heatmap"
   ]
  },
  {
   "cell_type": "code",
   "execution_count": null,
   "id": "1cb3cd5f-d3c2-48db-b2c4-bf91431bcb3c",
   "metadata": {},
   "outputs": [],
   "source": [
    "### i find this heatmapping a bit hard to read, but i think its a good start?"
   ]
  },
  {
   "cell_type": "code",
   "execution_count": null,
   "id": "c4adc28f-c2fc-4cdb-9f0a-d94bbb01bf93",
   "metadata": {},
   "outputs": [],
   "source": [
    "## trying market clustering, groups nearby points into a single, numbered circle. zooming in, clusters will break apart into smaller clusters or individual points\n",
    "from folium.plugins import MarkerCluster\n",
    "\n",
    "# Calculate the center of the map\n",
    "map_center = [df_cleaned['latitude'].mean(), df_cleaned['longitude'].mean()]\n",
    "\n",
    "# Create a new map object\n",
    "m_cluster = folium.Map(location=map_center, zoom_start=11)\n",
    "\n",
    "# Create a MarkerCluster object\n",
    "marker_cluster = MarkerCluster().add_to(m_cluster)\n",
    "\n",
    "# Add points to the cluster\n",
    "for idx, row in df_cleaned.iterrows():\n",
    "    folium.Marker(\n",
    "        location=[row['latitude'], row['longitude']],\n",
    "        popup=row['name']  # Optional: show name on click\n",
    "    ).add_to(marker_cluster)\n",
    "\n",
    "# Display the map\n",
    "m_cluster"
   ]
  },
  {
   "cell_type": "code",
   "execution_count": null,
   "id": "f9b0a861-3ee1-4438-8bd8-aeb9dda5948d",
   "metadata": {},
   "outputs": [],
   "source": [
    "###exploring narrowing it down further to quality restos\n",
    "\n",
    "# Filter for restaurants with 4.5 stars or more and a sufficient reviews\n",
    "df_top_rated = df_cleaned[(df_cleaned['stars'] >= 4.5) & (df_cleaned['review_count'] > 50)]\n",
    "print(f\"Found {len(df_top_rated)} top-rated restaurants.\")\n",
    "\n",
    "# Create a new map for the top-rated spots\n",
    "m_top_rated = folium.Map(location=map_center, zoom_start=11)\n",
    "\n",
    "for idx, row in df_top_rated.iterrows():\n",
    "    folium.Marker(\n",
    "        location=[row['latitude'], row['longitude']],\n",
    "        popup=f\"{row['name']} ({row['stars']} stars)\",\n",
    "        icon=folium.Icon(color='green', icon='star') # Add a green star icon\n",
    "    ).add_to(m_top_rated)\n",
    "\n",
    "# Display the map\n",
    "m_top_rated"
   ]
  },
  {
   "cell_type": "code",
   "execution_count": null,
   "id": "9f5af8ab-4212-4196-b8a9-e421f1e7c4c2",
   "metadata": {},
   "outputs": [],
   "source": [
    "##### Further analysis: eda on which city has the most restos?"
   ]
  },
  {
   "cell_type": "code",
   "execution_count": null,
   "id": "dfba7655-27e4-4739-8af8-65cd71ef8137",
   "metadata": {},
   "outputs": [],
   "source": [
    "!pip install matplotlib seaborn"
   ]
  },
  {
   "cell_type": "code",
   "execution_count": null,
   "id": "50350abf-2916-4301-87ce-e50ccdbf2f78",
   "metadata": {},
   "outputs": [],
   "source": [
    "import pandas as pd\n",
    "\n",
    "# split the 'categories' string into a list of categories\n",
    "df_cleaned['category_list'] = df_cleaned['categories'].str.split(', ')\n",
    "\n",
    "# 2. create a new row for each category in the list.\n",
    "df_exploded = df_cleaned.explode('category_list')\n",
    "\n",
    "print(\"Data after exploding categories:\")\n",
    "print(df_exploded[['name', 'category_list']].head())"
   ]
  },
  {
   "cell_type": "code",
   "execution_count": null,
   "id": "0d190064-bbd9-44a3-ad0a-58dccee2c21b",
   "metadata": {},
   "outputs": [],
   "source": [
    "# Get a list of unique cities in the dataset\n",
    "print(\"Cities available in the dataset:\")\n",
    "print(df_cleaned['city'].unique())"
   ]
  },
  {
   "cell_type": "code",
   "execution_count": null,
   "id": "92330281-a8a3-43f9-ba27-403467a0f7fe",
   "metadata": {},
   "outputs": [],
   "source": [
    "## EDA on top cities with most no. of businesses on yelp \n",
    "import matplotlib.pyplot as plt\n",
    "import seaborn as sns\n",
    "\n",
    "# Get count of businesses for each city and select the top 20\n",
    "top_20_cities = df_cleaned['city'].value_counts().head(20)\n",
    "\n",
    "print(\"Top 20 Cities by Number of Businesses:\")\n",
    "print(top_20_cities)\n",
    "\n",
    "# Create a bar plot to visualize the results\n",
    "plt.figure(figsize=(12, 10)) # Adjust figure size for better readability\n",
    "sns.barplot(x=top_20_cities.values, y=top_20_cities.index, palette='rocket')\n",
    "\n",
    "plt.title('Top 20 Cities by Number of Businesses', fontsize=16)\n",
    "plt.xlabel('Number of Businesses', fontsize=12)\n",
    "plt.ylabel('City', fontsize=12)\n",
    "plt.xticks(rotation=45) # Rotate x-axis labels slightly if they overlap\n",
    "plt.tight_layout() # Adjust plot to ensure everything fits without overlapping\n",
    "\n",
    "plt.show()"
   ]
  },
  {
   "cell_type": "code",
   "execution_count": null,
   "id": "656b0989-f2a7-4134-877d-57c2e485602e",
   "metadata": {},
   "outputs": [],
   "source": [
    "# (bonus) more biz analysis: which cuisine is popular in which town?"
   ]
  },
  {
   "cell_type": "code",
   "execution_count": null,
   "id": "8ebadc21-106e-441c-9785-faea9f8164c4",
   "metadata": {},
   "outputs": [],
   "source": [
    "## with the above, i narrowed the analysis to top 10 cities \n",
    "\n",
    "import pandas as pd\n",
    "import matplotlib.pyplot as plt\n",
    "import seaborn as sns\n",
    "\n",
    "\n",
    "top_cities_list = [\n",
    "    'Philadelphia',\n",
    "    'Tampa',\n",
    "    'Indianapolis', \n",
    "    'Nashville',\n",
    "    'Tucson',\n",
    "    'New Orleans',\n",
    "    'Edmonton',\n",
    "    'Saint Louis',\n",
    "    'Reno',\n",
    "    'Boise'\n",
    "]\n",
    "\n",
    "\n",
    "# Define generic categories to exclude for more meaningful results\n",
    "generic_categories = ['Restaurants', 'Food', 'Shopping', 'Beauty & Spas', 'Nightlife', 'Bars', 'Event Planning & Services']\n",
    "\n",
    "print(\"--- Starting Cuisine Analysis for Top 10 Cities ---\")\n",
    "\n",
    "for city in top_cities_list:\n",
    "    # Filter for the current city\n",
    "    city_df = df_exploded[df_exploded['city'] == city]\n",
    "\n",
    "    if city_df.empty:\n",
    "        print(f\"\\nWarning: No data found for '{city}'. It might be misspelled or not in the dataset.\")\n",
    "        continue\n",
    "\n",
    "    # Filter out generic categories\n",
    "    city_df_filtered = city_df[~city_df['category_list'].isin(generic_categories)]\n",
    "\n",
    "    # Get the top 10 most common cuisines/categories\n",
    "    top_cuisines = city_df_filtered['category_list'].value_counts().head(10)\n",
    "\n",
    "    # get plot\n",
    "    plt.figure(figsize=(12, 8))\n",
    "    sns.barplot(x=top_cuisines.values, y=top_cuisines.index, palette='plasma')\n",
    "\n",
    "    plt.title(f'Top 10 Most Popular Cuisines in {city}', fontsize=18)\n",
    "    plt.xlabel('Number of Businesses', fontsize=12)\n",
    "    plt.ylabel('Cuisine / Category', fontsize=12)\n",
    "    plt.tight_layout()\n",
    "\n",
    "\n",
    "    plt.show()\n"
   ]
  },
  {
   "cell_type": "code",
   "execution_count": null,
   "id": "18e5d8ca-0aeb-4591-9494-79cbfc0a5584",
   "metadata": {},
   "outputs": [],
   "source": [
    "## i then tried to make some meaningful clusters, bc the map and heatmap did not seem too helpful"
   ]
  },
  {
   "cell_type": "code",
   "execution_count": null,
   "id": "29972ddd-1a53-4462-af5d-cdc05f3d7909",
   "metadata": {},
   "outputs": [],
   "source": [
    "!pip install scikit-learn"
   ]
  },
  {
   "cell_type": "code",
   "execution_count": null,
   "id": "165c3eb4-8832-43e7-8a86-bbf189601f57",
   "metadata": {},
   "outputs": [],
   "source": [
    "# Create a new map\n",
    "map_clusters = folium.Map(location=[df_cleaned['latitude'].mean(), df_cleaned['longitude'].mean()], zoom_start=11)\n",
    "\n",
    "# --- Create a color palette for the clusters ---\n",
    "# We create a list of colors to cycle through for each cluster\n",
    "from colorsys import hsv_to_rgb\n",
    "cluster_colors = [f\"#{int(r*255):02x}{int(g*255):02x}{int(b*255):02x}\" for r,g,b in [hsv_to_rgb(x/n_clusters, 1., 1.) for x in range(n_clusters)]]\n",
    "\n",
    "# --- Loop through and plot each point with its cluster color ---\n",
    "for idx, row in df_cleaned.iterrows():\n",
    "    if row['cluster'] != -1: # If the point is part of a cluster\n",
    "        color = cluster_colors[row['cluster']]\n",
    "        folium.CircleMarker(\n",
    "            location=[row['latitude'], row['longitude']],\n",
    "            radius=4,\n",
    "            popup=f\"Cluster {row['cluster']}\",\n",
    "            color=color,\n",
    "            fill=True,\n",
    "            fill_color=color\n",
    "        ).add_to(map_clusters)\n",
    "\n",
    "# Display the final map with clusters\n",
    "map_clusters"
   ]
  },
  {
   "cell_type": "code",
   "execution_count": null,
   "id": "07a1baa1-a562-4f99-ab55-4520a43b3e0b",
   "metadata": {},
   "outputs": [],
   "source": []
  },
  {
   "cell_type": "code",
   "execution_count": null,
   "id": "d763a602-f5f6-4165-bd48-bb2dc5226665",
   "metadata": {},
   "outputs": [],
   "source": [
    "## 2. DOES LOCATION AFFECT PRICE??\n"
   ]
  },
  {
   "cell_type": "code",
   "execution_count": null,
   "id": "9084aeaf-4a30-4626-9e2b-0241174d39e4",
   "metadata": {},
   "outputs": [],
   "source": [
    "import pandas as pd\n",
    "import json\n",
    "import os\n",
    "\n",
    "# --- Step 1: Check if the file exists and provide the correct path ---\n",
    "file_path = 'yelp_food_business_flat.json'  # Update this with the correct path if needed\n",
    "\n",
    "# Check if the file exists before trying to open it\n",
    "if not os.path.exists(file_path):\n",
    "    print(f\"Error: The file '{file_path}' does not exist.\")\n",
    "    print(f\"Current working directory: {os.getcwd()}\")\n",
    "    print(\"Please check the file path or upload the file to this directory.\")\n",
    "else:\n",
    "    # --- Step 2: Load the raw JSON data from the file ---\n",
    "    with open(file_path, 'r') as f:\n",
    "        data = json.load(f)\n",
    "\n",
    "    # --- Step 3: Use json_normalize to flatten the data correctly ---\n",
    "    df_normalized = pd.json_normalize(data)\n",
    "\n",
    "    print(\"Successfully loaded and flattened the data!\")\n",
    "    print(\"Here are the available columns now:\")\n",
    "    print(df_normalized.columns.tolist())\n",
    "\n",
    "    # --- Step 4: Clean the data (remove null lat/lon) ---\n",
    "    df_cleaned = df_normalized.dropna(subset=['latitude', 'longitude'])"
   ]
  }
 ],
 "metadata": {
  "kernelspec": {
   "display_name": "Python [conda env:base] *",
   "language": "python",
   "name": "conda-base-py"
  },
  "language_info": {
   "codemirror_mode": {
    "name": "ipython",
    "version": 3
   },
   "file_extension": ".py",
   "mimetype": "text/x-python",
   "name": "python",
   "nbconvert_exporter": "python",
   "pygments_lexer": "ipython3",
   "version": "3.13.5"
  }
 },
 "nbformat": 4,
 "nbformat_minor": 5
}
