{
 "cells": [
  {
   "cell_type": "markdown",
   "id": "1e385262",
   "metadata": {},
   "source": [
    "# Yelp project BAP"
   ]
  },
  {
   "cell_type": "code",
   "execution_count": 4,
   "id": "05055a51",
   "metadata": {},
   "outputs": [],
   "source": [
    "import os\n",
    "import pandas as pd"
   ]
  },
  {
   "cell_type": "markdown",
   "id": "17e1cb6b",
   "metadata": {},
   "source": [
    "## reviews dataset"
   ]
  },
  {
   "cell_type": "code",
   "execution_count": 5,
   "id": "3bb58994",
   "metadata": {},
   "outputs": [
    {
     "name": "stdout",
     "output_type": "stream",
     "text": [
      "/Users/mare/Downloads/BAP_project_2025sem2/MTech-BAP\n"
     ]
    }
   ],
   "source": [
    "print(os.getcwd())"
   ]
  },
  {
   "cell_type": "code",
   "execution_count": null,
   "id": "ebb55489",
   "metadata": {},
   "outputs": [
    {
     "name": "stdout",
     "output_type": "stream",
     "text": [
      "size of reviews dataset:: 2\n",
      "                review_id                 user_id             business_id  \\\n",
      "0  KU_O5udG6zpxOg-VcAEodg  mh_-eMZ6K5RLWhZyISBhwA  XQfwVwDr-v0ZS3_CbbE5Xw   \n",
      "1  BiTunyQ73aT9WBnpR9DZGw  OyoGAe7OKpv6SyGZT5g77Q  7ATYjTIgM3jUlt4UM3IypQ   \n",
      "2  saUsX_uimxRlCVr67Z4Jig  8g_iMtfSiwikVnbP2etR0A  YjUWPpI6HXG530lwP-fb2A   \n",
      "3  AqPFMleE6RsU23_auESxiA  _7bHUi9Uuf5__HHc_Q8guQ  kxX2SOes4o-D3ZQBkiMRfA   \n",
      "4  Sx8TMOWLNuJBWer-0pcmoA  bcjbaE6dDog4jkNY91ncLQ  e4Vwtrqf-wpJfwesgvdgxQ   \n",
      "\n",
      "   stars  useful  funny  cool  \\\n",
      "0    3.0       0      0     0   \n",
      "1    5.0       1      0     1   \n",
      "2    3.0       0      0     0   \n",
      "3    5.0       1      0     1   \n",
      "4    4.0       1      0     1   \n",
      "\n",
      "                                                text                 date  \n",
      "0  If you decide to eat here, just be aware it is...  2018-07-07 22:09:11  \n",
      "1  I've taken a lot of spin classes over the year...  2012-01-03 15:28:18  \n",
      "2  Family diner. Had the buffet. Eclectic assortm...  2014-02-05 20:30:30  \n",
      "3  Wow!  Yummy, different,  delicious.   Our favo...  2015-01-04 00:01:03  \n",
      "4  Cute interior and owner (?) gave us tour of up...  2017-01-14 20:54:15  \n",
      "size of daniel reviews dataset:: 2\n",
      "                review_id                 user_id             business_id  \\\n",
      "0  KU_O5udG6zpxOg-VcAEodg  mh_-eMZ6K5RLWhZyISBhwA  XQfwVwDr-v0ZS3_CbbE5Xw   \n",
      "1  Sx8TMOWLNuJBWer-0pcmoA  bcjbaE6dDog4jkNY91ncLQ  e4Vwtrqf-wpJfwesgvdgxQ   \n",
      "2  lUUhg8ltDsUZ9h0xnwY4Dg  RreNy--tOmXMl1en0wiBOg  cPepkJeRMtHapc_b2Oe_dw   \n",
      "3  -P5E9BYUaK7s3PwBF5oAyg  Jha0USGDMefGFRLik_xFQg  bMratNjTG5ZFEA6hVyr-xQ   \n",
      "4  YbMyvlDA2W3Py5lTz8VK-A  4hBhtCSgoxkrFgHa4YAD-w  bbEXAEFr4RYHLlZ-HFssTA   \n",
      "\n",
      "   stars  useful  funny  cool  \\\n",
      "0      3       0      0     0   \n",
      "1      4       1      0     1   \n",
      "2      4       1      0     1   \n",
      "3      5       0      0     0   \n",
      "4      5       0      0     0   \n",
      "\n",
      "                                                text        date  \n",
      "0  If you decide to eat here, just be aware it is...  2018-07-07  \n",
      "1  Cute interior and owner (?) gave us tour of up...  2017-01-14  \n",
      "2  I was really between 3 and 4 stars for this on...  2018-07-16  \n",
      "3  First time there and it was excellent!!! It fe...  2017-02-19  \n",
      "4  Great burgers,fries and salad!  Burgers have a...  2017-01-01  \n"
     ]
    }
   ],
   "source": [
    "df_reviews = pd.read_csv('Data/review_output.csv')\n",
    "df_daniel_reviews = pd.read_csv('Data/filtered_yelp_reviews_2017_2022.csv')\n",
    "print('size of reviews dataset::', len(df_reviews.shape))\n",
    "print(df_reviews.head())\n",
    "print('size of daniel reviews dataset::', len(df_daniel_reviews.shape))\n",
    "print(df_daniel_reviews.head())"
   ]
  },
  {
   "cell_type": "code",
   "execution_count": 7,
   "id": "73e315aa",
   "metadata": {},
   "outputs": [
    {
     "name": "stdout",
     "output_type": "stream",
     "text": [
      "<class 'pandas.core.frame.DataFrame'>\n",
      "RangeIndex: 6990280 entries, 0 to 6990279\n",
      "Data columns (total 9 columns):\n",
      " #   Column       Dtype  \n",
      "---  ------       -----  \n",
      " 0   review_id    object \n",
      " 1   user_id      object \n",
      " 2   business_id  object \n",
      " 3   stars        float64\n",
      " 4   useful       int64  \n",
      " 5   funny        int64  \n",
      " 6   cool         int64  \n",
      " 7   text         object \n",
      " 8   date         object \n",
      "dtypes: float64(1), int64(3), object(5)\n",
      "memory usage: 480.0+ MB\n"
     ]
    }
   ],
   "source": [
    "df_reviews.info()"
   ]
  },
  {
   "cell_type": "code",
   "execution_count": 11,
   "id": "5887d8a9",
   "metadata": {},
   "outputs": [
    {
     "data": {
      "text/plain": [
       "stars\n",
       "5.0    3231627\n",
       "4.0    1452918\n",
       "1.0    1069561\n",
       "3.0     691934\n",
       "2.0     544240\n",
       "Name: count, dtype: int64"
      ]
     },
     "execution_count": 11,
     "metadata": {},
     "output_type": "execute_result"
    }
   ],
   "source": [
    "df_reviews['stars'].value_counts()"
   ]
  },
  {
   "cell_type": "code",
   "execution_count": 8,
   "id": "443df8e1",
   "metadata": {},
   "outputs": [
    {
     "data": {
      "text/plain": [
       "\"My experience with Shalimar was nothing but wonderful. \\nI wanted to get my engagement ring sized and was told over the phone that it could probably be done within the day. \\nWhen I brought it by, the team confirmed that the jeweler would be able to accommodate my same-day request and that it would be around $40 (simple band, decrease by three full sizes).\\nI checked my size one more time, confirmed, and left to let them do their thing.\\nWhen I came to pick up later that afternoon, the ring was too small. It's very important to note that Shalimar sized the ring perfectly, but that I made a mistake and should've gone up a half-size.\\nThe Shalimar group were completely understanding and accommodating, even resizing my ring back up and getting it back to me within an hour at no charge! Even though it was my mistake!\\nThe associates' attitudes in dealing with what was a pretty embarrassing situation instantly earned my satisfaction and loyalty as a customer. Very grateful for such a wonderful experience.\""
      ]
     },
     "execution_count": 8,
     "metadata": {},
     "output_type": "execute_result"
    }
   ],
   "source": [
    "df_reviews.iloc[10][\"text\"]"
   ]
  },
  {
   "cell_type": "markdown",
   "id": "598d58b9",
   "metadata": {},
   "source": [
    "### Data description for review dataset\n",
    "#### Each row represents a single review left by a user for a business.\n",
    "\n",
    "1. review_id: Unique identifier for each review (string).\n",
    "2. user_id: Unique identifier for the user who wrote the review (string).\n",
    "3. business_id: Unique identifier for the business being reviewed (string).\n",
    "4. stars: Star rating given by the user (float, typically 1.0 to 5.0).\n",
    "5. useful: Number of users who marked the review as useful (integer).\n",
    "6. funny: Number of users who marked the review as funny (integer).\n",
    "7. cool: Number of users who marked the review as cool (integer).\n",
    "8. text: Full text of the review written by the user (string).\n",
    "9. date: Date and time when the review was posted (datetime, format: YYYY-MM-DD HH:MM:SS)."
   ]
  },
  {
   "cell_type": "code",
   "execution_count": 18,
   "id": "4c113a78",
   "metadata": {},
   "outputs": [],
   "source": [
    "df_reviews_filtered = df_reviews.copy()"
   ]
  },
  {
   "cell_type": "code",
   "execution_count": 19,
   "id": "fa81c378",
   "metadata": {},
   "outputs": [
    {
     "name": "stdout",
     "output_type": "stream",
     "text": [
      "(3838105, 10)\n",
      "[2018 2017 2019 2020 2021 2022]\n"
     ]
    }
   ],
   "source": [
    "# filter to only recent 5 years \n",
    "df_reviews_filtered['year'] = pd.to_datetime(df_reviews_filtered['date']).dt.year\n",
    "df_reviews_filtered = df_reviews_filtered[(df_reviews_filtered['year'] >= 2017) & (df_reviews_filtered['year'] <= 2022)]\n",
    "print(df_reviews_filtered.shape)\n",
    "print(df_reviews_filtered['year'].unique())"
   ]
  },
  {
   "cell_type": "code",
   "execution_count": 20,
   "id": "eeedc3ab",
   "metadata": {},
   "outputs": [
    {
     "name": "stdout",
     "output_type": "stream",
     "text": [
      "daniel's filtered yelp review dataset (1174907, 9)\n",
      "current version of filtered dataset (3838105, 10)\n"
     ]
    }
   ],
   "source": [
    "# comparing dataset length with `filtered_yelp_reviews_2017_2022.csv`\n",
    "print(\"daniel's filtered yelp review dataset\",df_daniel_reviews.shape)\n",
    "print(\"current version of filtered dataset\",df_reviews_filtered.shape)"
   ]
  },
  {
   "cell_type": "markdown",
   "id": "28e760f5",
   "metadata": {},
   "source": [
    "### Basic data cleaning"
   ]
  },
  {
   "cell_type": "code",
   "execution_count": null,
   "id": "ff1a8712",
   "metadata": {},
   "outputs": [
    {
     "data": {
      "text/plain": [
       "review_id      0\n",
       "user_id        0\n",
       "business_id    0\n",
       "stars          0\n",
       "useful         0\n",
       "funny          0\n",
       "cool           0\n",
       "text           0\n",
       "date           0\n",
       "year           0\n",
       "dtype: int64"
      ]
     },
     "execution_count": 21,
     "metadata": {},
     "output_type": "execute_result"
    }
   ],
   "source": [
    "df_reviews_cleaned = df_reviews_filtered.copy()\n",
    "## handle missing and invalid data\n",
    "df_reviews_cleaned.isna().sum()\n",
    "# (df_reviews_cleaned['stars'] == '').any()"
   ]
  },
  {
   "cell_type": "code",
   "execution_count": 28,
   "id": "d6d97896",
   "metadata": {},
   "outputs": [
    {
     "data": {
      "text/plain": [
       "review_id      0\n",
       "user_id        0\n",
       "business_id    0\n",
       "stars          0\n",
       "useful         0\n",
       "funny          0\n",
       "cool           0\n",
       "text           0\n",
       "date           0\n",
       "year           0\n",
       "dtype: int64"
      ]
     },
     "execution_count": 28,
     "metadata": {},
     "output_type": "execute_result"
    }
   ],
   "source": [
    "# convert important columns to correct data formats\n",
    "type_map = {\n",
    "    'user_id': str,\n",
    "    'review_id': str,\n",
    "    'business_id': str,\n",
    "    'text': str,\n",
    "    'stars': int\n",
    "}\n",
    "df_reviews_cleaned = df_reviews_cleaned.astype(type_map)\n",
    "df_reviews_cleaned.isna().sum() # check for na again"
   ]
  },
  {
   "cell_type": "code",
   "execution_count": 30,
   "id": "efbfe8d5",
   "metadata": {},
   "outputs": [
    {
     "data": {
      "text/plain": [
       "np.int64(5)"
      ]
     },
     "execution_count": 30,
     "metadata": {},
     "output_type": "execute_result"
    }
   ],
   "source": [
    "df_reviews_cleaned.iloc[13]['stars']"
   ]
  },
  {
   "cell_type": "code",
   "execution_count": 31,
   "id": "e6695de5",
   "metadata": {},
   "outputs": [
    {
     "data": {
      "text/html": [
       "<div>\n",
       "<style scoped>\n",
       "    .dataframe tbody tr th:only-of-type {\n",
       "        vertical-align: middle;\n",
       "    }\n",
       "\n",
       "    .dataframe tbody tr th {\n",
       "        vertical-align: top;\n",
       "    }\n",
       "\n",
       "    .dataframe thead th {\n",
       "        text-align: right;\n",
       "    }\n",
       "</style>\n",
       "<table border=\"1\" class=\"dataframe\">\n",
       "  <thead>\n",
       "    <tr style=\"text-align: right;\">\n",
       "      <th></th>\n",
       "      <th>1.0</th>\n",
       "      <th>2.0</th>\n",
       "      <th>3.0</th>\n",
       "      <th>4.0</th>\n",
       "      <th>5.0</th>\n",
       "    </tr>\n",
       "  </thead>\n",
       "  <tbody>\n",
       "    <tr>\n",
       "      <th>0</th>\n",
       "      <td>False</td>\n",
       "      <td>False</td>\n",
       "      <td>True</td>\n",
       "      <td>False</td>\n",
       "      <td>False</td>\n",
       "    </tr>\n",
       "    <tr>\n",
       "      <th>4</th>\n",
       "      <td>False</td>\n",
       "      <td>False</td>\n",
       "      <td>False</td>\n",
       "      <td>True</td>\n",
       "      <td>False</td>\n",
       "    </tr>\n",
       "    <tr>\n",
       "      <th>24</th>\n",
       "      <td>False</td>\n",
       "      <td>False</td>\n",
       "      <td>False</td>\n",
       "      <td>True</td>\n",
       "      <td>False</td>\n",
       "    </tr>\n",
       "    <tr>\n",
       "      <th>30</th>\n",
       "      <td>False</td>\n",
       "      <td>False</td>\n",
       "      <td>False</td>\n",
       "      <td>False</td>\n",
       "      <td>True</td>\n",
       "    </tr>\n",
       "    <tr>\n",
       "      <th>31</th>\n",
       "      <td>False</td>\n",
       "      <td>False</td>\n",
       "      <td>False</td>\n",
       "      <td>False</td>\n",
       "      <td>True</td>\n",
       "    </tr>\n",
       "  </tbody>\n",
       "</table>\n",
       "</div>"
      ],
      "text/plain": [
       "      1.0    2.0    3.0    4.0    5.0\n",
       "0   False  False   True  False  False\n",
       "4   False  False  False   True  False\n",
       "24  False  False  False   True  False\n",
       "30  False  False  False  False   True\n",
       "31  False  False  False  False   True"
      ]
     },
     "execution_count": 31,
     "metadata": {},
     "output_type": "execute_result"
    }
   ],
   "source": [
    "dummies = pd.get_dummies(df_reviews_filtered['stars'])\n",
    "dummies.head()"
   ]
  },
  {
   "cell_type": "code",
   "execution_count": 32,
   "id": "835d69fe",
   "metadata": {},
   "outputs": [
    {
     "data": {
      "text/plain": [
       "(3838105, 10)"
      ]
     },
     "execution_count": 32,
     "metadata": {},
     "output_type": "execute_result"
    }
   ],
   "source": [
    "df_reviews_cleaned = df_reviews_cleaned.dropna(subset=['text'])\n",
    "# remove empty or whitespace-only text cell values\n",
    "df_reviews_cleaned = df_reviews_cleaned[df_reviews_cleaned['text'].str.strip() != '']\n",
    "df_reviews_cleaned.shape"
   ]
  },
  {
   "cell_type": "code",
   "execution_count": 35,
   "id": "f615bfa1",
   "metadata": {},
   "outputs": [
    {
     "name": "stdout",
     "output_type": "stream",
     "text": [
      "stars rating in reviews data is lowest at:  1\n",
      "stars rating in reviews data is highest at:  5\n"
     ]
    }
   ],
   "source": [
    "# check range of 'stars' rating column in case of out-of-range values\n",
    "print(\"stars rating in reviews data is lowest at: \", df_reviews_cleaned['stars'].min())\n",
    "print(\"stars rating in reviews data is highest at: \", df_reviews_cleaned['stars'].max())"
   ]
  },
  {
   "cell_type": "code",
   "execution_count": null,
   "id": "9b24844b",
   "metadata": {},
   "outputs": [],
   "source": [
    "# -- standardization and normalization --\n",
    "df_reviews_cleaned['text'] = df_reviews_cleaned['text'].str.lower() # loweCasing text\n",
    "df_reviews_cleaned['text'] = df_reviews_cleaned['text'].str.replace(r'\\W', ' ', regex=True) # rem special char\n",
    "df_reviews_cleaned.head(6)"
   ]
  },
  {
   "cell_type": "code",
   "execution_count": null,
   "id": "122d3ea5",
   "metadata": {},
   "outputs": [],
   "source": [
    "# drop duplicate rows.\n",
    "df_reviews_cleaned = df_reviews_cleaned.drop_duplicates()\n",
    "df_reviews_cleaned.shape"
   ]
  },
  {
   "cell_type": "code",
   "execution_count": null,
   "id": "2e13f4a0",
   "metadata": {},
   "outputs": [],
   "source": [
    "df_reviews_cleaned.to_csv('Data/cleaned_reviews_2017-2022.csv', index=False)"
   ]
  },
  {
   "cell_type": "markdown",
   "id": "50b111ba",
   "metadata": {},
   "source": [
    "### EDA explonatory data analysis"
   ]
  },
  {
   "cell_type": "code",
   "execution_count": 8,
   "id": "77aacbb7",
   "metadata": {},
   "outputs": [],
   "source": [
    "import seaborn as sns\n",
    "import pandas as pd\n",
    "import matplotlib.pyplot as plt"
   ]
  },
  {
   "cell_type": "code",
   "execution_count": 10,
   "id": "6e46455c",
   "metadata": {},
   "outputs": [],
   "source": [
    "df_reviews_cleaned = pd.read_csv('Data/cleaned_reviews_2017-2022.csv')"
   ]
  },
  {
   "cell_type": "code",
   "execution_count": 7,
   "id": "7d41e78f",
   "metadata": {},
   "outputs": [
    {
     "name": "stdout",
     "output_type": "stream",
     "text": [
      "stars\n",
      "1    17.497671\n",
      "2     7.083496\n",
      "3     8.066611\n",
      "4    16.183976\n",
      "5    51.168246\n",
      "Name: proportion, dtype: float64\n"
     ]
    },
    {
     "data": {
      "image/png": "[encoded data removed]",
      "text/plain": [
       "<Figure size 500x300 with 1 Axes>"
      ]
     },
     "metadata": {},
     "output_type": "display_data"
    }
   ],
   "source": [
    "star_counts_percent = df_reviews_cleaned['stars'].value_counts(normalize=True).sort_index() * 100\n",
    "print(star_counts_percent)\n",
    "\n",
    "plt.figure(figsize=(5, 3))\n",
    "sns.barplot(x=star_counts_percent.index, hue=star_counts_percent.index, y=star_counts_percent.values, palette='viridis', legend=False)\n",
    "plt.title('Percentage Distribution of Stars Rating')\n",
    "plt.xlabel('Stars')\n",
    "plt.ylabel('Percentage (%)')\n",
    "plt.ylim(0, 100)\n",
    "plt.show()"
   ]
  },
  {
   "cell_type": "code",
   "execution_count": null,
   "id": "7b567147",
   "metadata": {},
   "outputs": [
    {
     "data": {
      "text/plain": [
       "array([  0,   1,   2,   3,   4,   8,  11,   9,   5,   6,   7,  13,  12,\n",
       "        19,  16,  10,  18,  17,  14,  27,  21,  23,  29,  15,  20,  26,\n",
       "        44,  60,  30,  25,  38,  33,  46,  28,  37,  47,  36,  42,  56,\n",
       "        32,  35,  24,  31,  22,  54,  39,  68,  34,  41,  43, 179,  49,\n",
       "        50,  73,  52,  74,  66,  45,  65,  72,  48,  91,  82, 135,  51,\n",
       "        69,  40,  87,  98, 118, 539, 150,  57,  59,  89, 142,  55,  58,\n",
       "        64,  96,  71,  86, 109,  53, 120,  77, 111, 160,  80,  62, 114,\n",
       "       346, 152, 190, 123,  75, 115,  81, 217, 199, 197,  85,  93, 132,\n",
       "       168, 169, 292,  61,  88,  92, 225, 176, 144, 102,  70, 127, 126,\n",
       "        79, 177, 129, 187, 106, 182,  90, 101,  67, 117, 158, 139, 128,\n",
       "        84, 181,  83, 140, 171,  63, 162, 192, 100, 163,  76, 125, 116,\n",
       "        95, 191, 112, 178,  78, 105,  -1, 173, 108, 110, 113, 151,  97,\n",
       "       156, 119, 148, 107, 164,  94, 155, 153, 103, 211, 104, 236, 196,\n",
       "       124, 195, 122, 131, 143, 198, 134, 159, 222, 205, 136, 145, 146,\n",
       "       149, 262, 166, 130, 227,  99, 189, 147, 209, 261, 154, 137, 170,\n",
       "       133, 933, 617, 224, 325, 207])"
      ]
     },
     "execution_count": 56,
     "metadata": {},
     "output_type": "execute_result"
    }
   ],
   "source": [
    "# \"useful\" column is critical cos it is the count of Yelp users who\n",
    "# find the review useful\n",
    "df_reviews_cleaned['useful'].unique()"
   ]
  },
  {
   "cell_type": "code",
   "execution_count": 53,
   "id": "c7d64e0f",
   "metadata": {},
   "outputs": [
    {
     "data": {
      "image/png": "[encoded data removed]",
      "text/plain": [
       "<Figure size 640x480 with 1 Axes>"
      ]
     },
     "metadata": {},
     "output_type": "display_data"
    }
   ],
   "source": [
    "sns.scatterplot(x=\"useful\",y = 'stars',data=df_reviews_cleaned)\n",
    "plt.title('Stars Rating vs Useful Votes')\n",
    "plt.xlabel('Useful Votes')\n",
    "plt.ylabel('Stars Rating')\n",
    "plt.show()"
   ]
  },
  {
   "cell_type": "code",
   "execution_count": 57,
   "id": "7efc84a1",
   "metadata": {},
   "outputs": [
    {
     "data": {
      "image/png": "[encoded data removed]",
      "text/plain": [
       "<Figure size 640x480 with 1 Axes>"
      ]
     },
     "metadata": {},
     "output_type": "display_data"
    }
   ],
   "source": [
    "sns.boxplot(x=\"stars\", y=\"useful\", data=df_reviews_cleaned)\n",
    "plt.title(\"Useful Votes by Star Rating\")\n",
    "plt.show()"
   ]
  },
  {
   "cell_type": "code",
   "execution_count": 62,
   "id": "d660b771",
   "metadata": {},
   "outputs": [
    {
     "data": {
      "text/plain": [
       "review_id      object\n",
       "user_id        object\n",
       "business_id    object\n",
       "stars           int64\n",
       "useful          int64\n",
       "funny           int64\n",
       "cool            int64\n",
       "text           object\n",
       "date           object\n",
       "year            int32\n",
       "dtype: object"
      ]
     },
     "execution_count": 62,
     "metadata": {},
     "output_type": "execute_result"
    }
   ],
   "source": [
    "df_reviews_cleaned.dtypes"
   ]
  },
  {
   "cell_type": "code",
   "execution_count": null,
   "id": "51b92dd3",
   "metadata": {},
   "outputs": [
    {
     "data": {
      "image/png": "[encoded data removed]",
      "text/plain": [
       "<Figure size 500x300 with 1 Axes>"
      ]
     },
     "metadata": {},
     "output_type": "display_data"
    }
   ],
   "source": [
    "df_reviews_cleaned.groupby(\"stars\")[\"useful\"].mean().plot(kind=\"bar\", figsize=(5, 3))\n",
    "plt.title(\"Average Useful Votes per Star Rating\")\n",
    "plt.ylabel(\"Avg Useful Votes\")\n",
    "plt.xticks(rotation=90)\n",
    "plt.tight_layout()  # Prevent label cutoff\n",
    "plt.show()"
   ]
  },
  {
   "cell_type": "markdown",
   "id": "c73a4597",
   "metadata": {},
   "source": [
    "### text preprocessing for reviews columns"
   ]
  },
  {
   "cell_type": "code",
   "execution_count": null,
   "id": "c627081c",
   "metadata": {},
   "outputs": [],
   "source": [
    "import pandas as pd\n",
    "df_reviews_cleaned = pd.read_csv('Data/cleaned_reviews_2017-2022.csv')"
   ]
  },
  {
   "cell_type": "code",
   "execution_count": 8,
   "id": "a907b354",
   "metadata": {},
   "outputs": [
    {
     "name": "stdout",
     "output_type": "stream",
     "text": [
      "<class 'pandas.core.frame.DataFrame'>\n",
      "RangeIndex: 3838105 entries, 0 to 3838104\n",
      "Data columns (total 10 columns):\n",
      " #   Column       Dtype \n",
      "---  ------       ----- \n",
      " 0   review_id    object\n",
      " 1   user_id      object\n",
      " 2   business_id  object\n",
      " 3   stars        int64 \n",
      " 4   useful       int64 \n",
      " 5   funny        int64 \n",
      " 6   cool         int64 \n",
      " 7   text         object\n",
      " 8   date         object\n",
      " 9   year         int64 \n",
      "dtypes: int64(5), object(5)\n",
      "memory usage: 292.8+ MB\n"
     ]
    }
   ],
   "source": [
    "df_reviews_preprocessed = df_reviews_cleaned.copy()\n",
    "df_reviews_preprocessed.info()"
   ]
  },
  {
   "cell_type": "code",
   "execution_count": 9,
   "id": "e7a58de3",
   "metadata": {},
   "outputs": [],
   "source": [
    "import string\n",
    "punc = string.punctuation"
   ]
  },
  {
   "cell_type": "code",
   "execution_count": 10,
   "id": "332f9034",
   "metadata": {},
   "outputs": [
    {
     "data": {
      "text/html": [
       "<div>\n",
       "<style scoped>\n",
       "    .dataframe tbody tr th:only-of-type {\n",
       "        vertical-align: middle;\n",
       "    }\n",
       "\n",
       "    .dataframe tbody tr th {\n",
       "        vertical-align: top;\n",
       "    }\n",
       "\n",
       "    .dataframe thead th {\n",
       "        text-align: right;\n",
       "    }\n",
       "</style>\n",
       "<table border=\"1\" class=\"dataframe\">\n",
       "  <thead>\n",
       "    <tr style=\"text-align: right;\">\n",
       "      <th></th>\n",
       "      <th>review_id</th>\n",
       "      <th>user_id</th>\n",
       "      <th>business_id</th>\n",
       "      <th>stars</th>\n",
       "      <th>useful</th>\n",
       "      <th>funny</th>\n",
       "      <th>cool</th>\n",
       "      <th>text</th>\n",
       "      <th>date</th>\n",
       "      <th>year</th>\n",
       "    </tr>\n",
       "  </thead>\n",
       "  <tbody>\n",
       "    <tr>\n",
       "      <th>0</th>\n",
       "      <td>KU_O5udG6zpxOg-VcAEodg</td>\n",
       "      <td>mh_-eMZ6K5RLWhZyISBhwA</td>\n",
       "      <td>XQfwVwDr-v0ZS3_CbbE5Xw</td>\n",
       "      <td>3</td>\n",
       "      <td>0</td>\n",
       "      <td>0</td>\n",
       "      <td>0</td>\n",
       "      <td>if you decide to eat here  just be aware it is...</td>\n",
       "      <td>2018-07-07 22:09:11</td>\n",
       "      <td>2018</td>\n",
       "    </tr>\n",
       "    <tr>\n",
       "      <th>1</th>\n",
       "      <td>Sx8TMOWLNuJBWer-0pcmoA</td>\n",
       "      <td>bcjbaE6dDog4jkNY91ncLQ</td>\n",
       "      <td>e4Vwtrqf-wpJfwesgvdgxQ</td>\n",
       "      <td>4</td>\n",
       "      <td>1</td>\n",
       "      <td>0</td>\n",
       "      <td>1</td>\n",
       "      <td>cute interior and owner     gave us tour of up...</td>\n",
       "      <td>2017-01-14 20:54:15</td>\n",
       "      <td>2017</td>\n",
       "    </tr>\n",
       "    <tr>\n",
       "      <th>2</th>\n",
       "      <td>lUUhg8ltDsUZ9h0xnwY4Dg</td>\n",
       "      <td>RreNy--tOmXMl1en0wiBOg</td>\n",
       "      <td>cPepkJeRMtHapc_b2Oe_dw</td>\n",
       "      <td>4</td>\n",
       "      <td>1</td>\n",
       "      <td>0</td>\n",
       "      <td>1</td>\n",
       "      <td>i was really between 3 and 4 stars for this on...</td>\n",
       "      <td>2018-07-17 03:30:07</td>\n",
       "      <td>2018</td>\n",
       "    </tr>\n",
       "    <tr>\n",
       "      <th>3</th>\n",
       "      <td>-P5E9BYUaK7s3PwBF5oAyg</td>\n",
       "      <td>Jha0USGDMefGFRLik_xFQg</td>\n",
       "      <td>bMratNjTG5ZFEA6hVyr-xQ</td>\n",
       "      <td>5</td>\n",
       "      <td>0</td>\n",
       "      <td>0</td>\n",
       "      <td>0</td>\n",
       "      <td>first time there and it was excellent    it fe...</td>\n",
       "      <td>2017-02-19 13:32:05</td>\n",
       "      <td>2017</td>\n",
       "    </tr>\n",
       "    <tr>\n",
       "      <th>4</th>\n",
       "      <td>YbMyvlDA2W3Py5lTz8VK-A</td>\n",
       "      <td>4hBhtCSgoxkrFgHa4YAD-w</td>\n",
       "      <td>bbEXAEFr4RYHLlZ-HFssTA</td>\n",
       "      <td>5</td>\n",
       "      <td>0</td>\n",
       "      <td>0</td>\n",
       "      <td>0</td>\n",
       "      <td>great burgers fries and salad   burgers have a...</td>\n",
       "      <td>2017-01-02 03:17:34</td>\n",
       "      <td>2017</td>\n",
       "    </tr>\n",
       "  </tbody>\n",
       "</table>\n",
       "</div>"
      ],
      "text/plain": [
       "                review_id                 user_id             business_id  \\\n",
       "0  KU_O5udG6zpxOg-VcAEodg  mh_-eMZ6K5RLWhZyISBhwA  XQfwVwDr-v0ZS3_CbbE5Xw   \n",
       "1  Sx8TMOWLNuJBWer-0pcmoA  bcjbaE6dDog4jkNY91ncLQ  e4Vwtrqf-wpJfwesgvdgxQ   \n",
       "2  lUUhg8ltDsUZ9h0xnwY4Dg  RreNy--tOmXMl1en0wiBOg  cPepkJeRMtHapc_b2Oe_dw   \n",
       "3  -P5E9BYUaK7s3PwBF5oAyg  Jha0USGDMefGFRLik_xFQg  bMratNjTG5ZFEA6hVyr-xQ   \n",
       "4  YbMyvlDA2W3Py5lTz8VK-A  4hBhtCSgoxkrFgHa4YAD-w  bbEXAEFr4RYHLlZ-HFssTA   \n",
       "\n",
       "   stars  useful  funny  cool  \\\n",
       "0      3       0      0     0   \n",
       "1      4       1      0     1   \n",
       "2      4       1      0     1   \n",
       "3      5       0      0     0   \n",
       "4      5       0      0     0   \n",
       "\n",
       "                                                text                 date  \\\n",
       "0  if you decide to eat here  just be aware it is...  2018-07-07 22:09:11   \n",
       "1  cute interior and owner     gave us tour of up...  2017-01-14 20:54:15   \n",
       "2  i was really between 3 and 4 stars for this on...  2018-07-17 03:30:07   \n",
       "3  first time there and it was excellent    it fe...  2017-02-19 13:32:05   \n",
       "4  great burgers fries and salad   burgers have a...  2017-01-02 03:17:34   \n",
       "\n",
       "   year  \n",
       "0  2018  \n",
       "1  2017  \n",
       "2  2018  \n",
       "3  2017  \n",
       "4  2017  "
      ]
     },
     "execution_count": 10,
     "metadata": {},
     "output_type": "execute_result"
    }
   ],
   "source": [
    "## previously alrdy handled special characters in \"text\" body, but additional safety cleaning\n",
    "# removing punctuation, punctuation = noise in dataset, cos it carries sentimental values\n",
    "df_reviews_preprocessed['text'] = df_reviews_preprocessed['text'].str.replace(f'[{punc}]', '', regex=True)\n",
    "# check if all values in the \"text\" column are strings\n",
    "is_all_strings = (df_reviews_preprocessed['text'].apply(type) == str).all()\n",
    "df_reviews_preprocessed.head()\n"
   ]
  },
  {
   "cell_type": "code",
   "execution_count": 11,
   "id": "4e81f8b8",
   "metadata": {},
   "outputs": [
    {
     "name": "stdout",
     "output_type": "stream",
     "text": [
      "NLTK version: 3.9.1\n",
      "['about', 'forty', 'name', 'very', 'you', 'amongst', 'perhaps', 'was', 'becoming', 'through', 'find', 'under', 'while', 'they', 'are', 'so', 'both', 'latter', 'six', 'anything']\n"
     ]
    },
    {
     "data": {
      "text/plain": [
       "0    decide eat just aware going 2 hours beginning ...\n",
       "1    cute interior owner gave tour upcoming patio r...\n",
       "2    really 3 4 stars love 96th street naked tchops...\n",
       "3    time excellent feels like entering s home wait...\n",
       "4    great burgers fries salad burgers hint salt pe...\n",
       "Name: text, dtype: object"
      ]
     },
     "execution_count": 11,
     "metadata": {},
     "output_type": "execute_result"
    }
   ],
   "source": [
    "# handling stopwords\n",
    "import nltk\n",
    "print(\"NLTK version:\", nltk.__version__)\n",
    "\n",
    "from sklearn.feature_extraction.text import ENGLISH_STOP_WORDS\n",
    "\n",
    "stopwords = list(ENGLISH_STOP_WORDS)\n",
    "print(stopwords[:20])\n",
    "\n",
    "df_reviews_preprocessed['text'] = df_reviews_preprocessed['text'].apply(lambda x: ' '.join(word for word in x.split() if word not in stopwords))\n",
    "df_reviews_preprocessed['text'].head(5)"
   ]
  },
  {
   "cell_type": "code",
   "execution_count": null,
   "id": "2282b6ec",
   "metadata": {},
   "outputs": [
    {
     "data": {
      "text/plain": [
       "'brunch saturday food delicious service great great atmosphere definitely place rotation favorite spots'"
      ]
     },
     "execution_count": 12,
     "metadata": {},
     "output_type": "execute_result"
    }
   ],
   "source": [
    "# analysing the text for comparison \n",
    "df_reviews_preprocessed.iloc[1234]['text']"
   ]
  },
  {
   "cell_type": "code",
   "execution_count": 13,
   "id": "85a413e6",
   "metadata": {},
   "outputs": [
    {
     "data": {
      "text/plain": [
       "'had brunch on a saturday  food was delicious  service was great  great atmosphere  will definitely put this place in my rotation of favorite spots '"
      ]
     },
     "execution_count": 13,
     "metadata": {},
     "output_type": "execute_result"
    }
   ],
   "source": [
    "df_reviews_cleaned.iloc[1234]['text']"
   ]
  },
  {
   "cell_type": "code",
   "execution_count": 14,
   "id": "dbef1234",
   "metadata": {},
   "outputs": [
    {
     "data": {
      "text/html": [
       "<div>\n",
       "<style scoped>\n",
       "    .dataframe tbody tr th:only-of-type {\n",
       "        vertical-align: middle;\n",
       "    }\n",
       "\n",
       "    .dataframe tbody tr th {\n",
       "        vertical-align: top;\n",
       "    }\n",
       "\n",
       "    .dataframe thead th {\n",
       "        text-align: right;\n",
       "    }\n",
       "</style>\n",
       "<table border=\"1\" class=\"dataframe\">\n",
       "  <thead>\n",
       "    <tr style=\"text-align: right;\">\n",
       "      <th></th>\n",
       "      <th>review_id</th>\n",
       "      <th>user_id</th>\n",
       "      <th>business_id</th>\n",
       "      <th>stars</th>\n",
       "      <th>useful</th>\n",
       "      <th>funny</th>\n",
       "      <th>cool</th>\n",
       "      <th>text</th>\n",
       "      <th>date</th>\n",
       "      <th>year</th>\n",
       "      <th>text_length</th>\n",
       "    </tr>\n",
       "  </thead>\n",
       "  <tbody>\n",
       "    <tr>\n",
       "      <th>0</th>\n",
       "      <td>KU_O5udG6zpxOg-VcAEodg</td>\n",
       "      <td>mh_-eMZ6K5RLWhZyISBhwA</td>\n",
       "      <td>XQfwVwDr-v0ZS3_CbbE5Xw</td>\n",
       "      <td>3</td>\n",
       "      <td>0</td>\n",
       "      <td>0</td>\n",
       "      <td>0</td>\n",
       "      <td>decide eat just aware going 2 hours beginning ...</td>\n",
       "      <td>2018-07-07 22:09:11</td>\n",
       "      <td>2018</td>\n",
       "      <td>266</td>\n",
       "    </tr>\n",
       "    <tr>\n",
       "      <th>1</th>\n",
       "      <td>Sx8TMOWLNuJBWer-0pcmoA</td>\n",
       "      <td>bcjbaE6dDog4jkNY91ncLQ</td>\n",
       "      <td>e4Vwtrqf-wpJfwesgvdgxQ</td>\n",
       "      <td>4</td>\n",
       "      <td>1</td>\n",
       "      <td>0</td>\n",
       "      <td>1</td>\n",
       "      <td>cute interior owner gave tour upcoming patio r...</td>\n",
       "      <td>2017-01-14 20:54:15</td>\n",
       "      <td>2017</td>\n",
       "      <td>343</td>\n",
       "    </tr>\n",
       "    <tr>\n",
       "      <th>2</th>\n",
       "      <td>lUUhg8ltDsUZ9h0xnwY4Dg</td>\n",
       "      <td>RreNy--tOmXMl1en0wiBOg</td>\n",
       "      <td>cPepkJeRMtHapc_b2Oe_dw</td>\n",
       "      <td>4</td>\n",
       "      <td>1</td>\n",
       "      <td>0</td>\n",
       "      <td>1</td>\n",
       "      <td>really 3 4 stars love 96th street naked tchops...</td>\n",
       "      <td>2018-07-17 03:30:07</td>\n",
       "      <td>2018</td>\n",
       "      <td>817</td>\n",
       "    </tr>\n",
       "  </tbody>\n",
       "</table>\n",
       "</div>"
      ],
      "text/plain": [
       "                review_id                 user_id             business_id  \\\n",
       "0  KU_O5udG6zpxOg-VcAEodg  mh_-eMZ6K5RLWhZyISBhwA  XQfwVwDr-v0ZS3_CbbE5Xw   \n",
       "1  Sx8TMOWLNuJBWer-0pcmoA  bcjbaE6dDog4jkNY91ncLQ  e4Vwtrqf-wpJfwesgvdgxQ   \n",
       "2  lUUhg8ltDsUZ9h0xnwY4Dg  RreNy--tOmXMl1en0wiBOg  cPepkJeRMtHapc_b2Oe_dw   \n",
       "\n",
       "   stars  useful  funny  cool  \\\n",
       "0      3       0      0     0   \n",
       "1      4       1      0     1   \n",
       "2      4       1      0     1   \n",
       "\n",
       "                                                text                 date  \\\n",
       "0  decide eat just aware going 2 hours beginning ...  2018-07-07 22:09:11   \n",
       "1  cute interior owner gave tour upcoming patio r...  2017-01-14 20:54:15   \n",
       "2  really 3 4 stars love 96th street naked tchops...  2018-07-17 03:30:07   \n",
       "\n",
       "   year  text_length  \n",
       "0  2018          266  \n",
       "1  2017          343  \n",
       "2  2018          817  "
      ]
     },
     "execution_count": 14,
     "metadata": {},
     "output_type": "execute_result"
    }
   ],
   "source": [
    "# create new text length column to create new feature for future model training\n",
    "df_reviews_preprocessed['text_length'] = df_reviews_preprocessed['text'].apply(len)\n",
    "df_reviews_preprocessed.head(3)"
   ]
  },
  {
   "cell_type": "code",
   "execution_count": 19,
   "id": "c9bce49c",
   "metadata": {},
   "outputs": [
    {
     "name": "stdout",
     "output_type": "stream",
     "text": [
      "cute interior owner gave tour upcoming patio rooftop area great beautiful days like today cheese curds good filling really like sandwiches come w salad esp eating curds onion gruyere tomato sandwich wasn t cheese liked needed pepper jelly maybe like menu options added salads w fun cheeses lots beer wine limited cocktails time try draft wines\n"
     ]
    },
    {
     "data": {
      "text/plain": [
       "343"
      ]
     },
     "execution_count": 19,
     "metadata": {},
     "output_type": "execute_result"
    }
   ],
   "source": [
    "# validify code \n",
    "print(df_reviews_preprocessed.iloc[1][\"text\"])\n",
    "len(df_reviews_preprocessed.iloc[1][\"text\"])"
   ]
  },
  {
   "cell_type": "code",
   "execution_count": null,
   "id": "511e373d",
   "metadata": {},
   "outputs": [],
   "source": [
    "df_reviews_preprocessed.to_csv('Data/textprocessed_reviews_2017-2022.csv', index=False)"
   ]
  },
  {
   "cell_type": "code",
   "execution_count": 21,
   "id": "c1abafa5",
   "metadata": {},
   "outputs": [
    {
     "data": {
      "text/plain": [
       "(3838105, 11)"
      ]
     },
     "execution_count": 21,
     "metadata": {},
     "output_type": "execute_result"
    }
   ],
   "source": [
    "df_reviews_preprocessed.shape"
   ]
  },
  {
   "cell_type": "markdown",
   "id": "c187d4b1",
   "metadata": {},
   "source": [
    "### further text processing"
   ]
  },
  {
   "cell_type": "code",
   "execution_count": null,
   "id": "2cfaf7f8",
   "metadata": {},
   "outputs": [],
   "source": [
    "df_reviews_preprocessed = pd.read_csv('Data/textprocessed_reviews_2017-2022.csv')"
   ]
  },
  {
   "cell_type": "code",
   "execution_count": 22,
   "id": "d5a0a670",
   "metadata": {},
   "outputs": [
    {
     "data": {
      "text/plain": [
       "array([3, 4, 5, 2, 1])"
      ]
     },
     "execution_count": 22,
     "metadata": {},
     "output_type": "execute_result"
    }
   ],
   "source": [
    "df_reviews_preprocessed['stars'].unique()"
   ]
  },
  {
   "cell_type": "code",
   "execution_count": 25,
   "id": "0bf23f84",
   "metadata": {},
   "outputs": [
    {
     "name": "stdout",
     "output_type": "stream",
     "text": [
      "                review_id                 user_id             business_id  \\\n",
      "0  KU_O5udG6zpxOg-VcAEodg  mh_-eMZ6K5RLWhZyISBhwA  XQfwVwDr-v0ZS3_CbbE5Xw   \n",
      "1  Sx8TMOWLNuJBWer-0pcmoA  bcjbaE6dDog4jkNY91ncLQ  e4Vwtrqf-wpJfwesgvdgxQ   \n",
      "2  lUUhg8ltDsUZ9h0xnwY4Dg  RreNy--tOmXMl1en0wiBOg  cPepkJeRMtHapc_b2Oe_dw   \n",
      "\n",
      "   stars  useful  funny  cool  \\\n",
      "0      3       0      0     0   \n",
      "1      4       1      0     1   \n",
      "2      4       1      0     1   \n",
      "\n",
      "                                                text                 date  \\\n",
      "0  decide eat just aware going 2 hours beginning ...  2018-07-07 22:09:11   \n",
      "1  cute interior owner gave tour upcoming patio r...  2017-01-14 20:54:15   \n",
      "2  really 3 4 stars love 96th street naked tchops...  2018-07-17 03:30:07   \n",
      "\n",
      "   year  text_length sentiment_bin  \n",
      "0  2018          266      Positive  \n",
      "1  2017          343      Positive  \n",
      "2  2018          817      Positive  \n"
     ]
    },
    {
     "data": {
      "image/png": "[encoded data removed]",
      "text/plain": [
       "<Figure size 640x480 with 1 Axes>"
      ]
     },
     "metadata": {},
     "output_type": "display_data"
    }
   ],
   "source": [
    "import matplotlib.pyplot as plt\n",
    "\n",
    "# binning of the ratings column with rating 4, 5 => Positive; 1, 2, 3 => Negative\n",
    "def ratings(rating):\n",
    "    return \"Positive\" if rating>2 and rating<=5 else \"Negative\" # no special handling of invalid values cos all within 1-5\n",
    "\n",
    "df_reviews_preprocessed['sentiment_bin'] = df_reviews_preprocessed['stars'].apply(ratings)\n",
    "print(df_reviews_preprocessed.head(3))\n",
    "plt.pie(df_reviews_preprocessed['sentiment_bin'].value_counts(), labels=df_reviews_preprocessed['sentiment_bin'].unique().tolist(), autopct='%1.1f%%')\n",
    "plt.show()"
   ]
  },
  {
   "cell_type": "code",
   "execution_count": 27,
   "id": "a40b4320",
   "metadata": {},
   "outputs": [
    {
     "name": "stdout",
     "output_type": "stream",
     "text": [
      "                review_id                 user_id             business_id  \\\n",
      "0  KU_O5udG6zpxOg-VcAEodg  mh_-eMZ6K5RLWhZyISBhwA  XQfwVwDr-v0ZS3_CbbE5Xw   \n",
      "1  Sx8TMOWLNuJBWer-0pcmoA  bcjbaE6dDog4jkNY91ncLQ  e4Vwtrqf-wpJfwesgvdgxQ   \n",
      "2  lUUhg8ltDsUZ9h0xnwY4Dg  RreNy--tOmXMl1en0wiBOg  cPepkJeRMtHapc_b2Oe_dw   \n",
      "\n",
      "   stars  useful  funny  cool  \\\n",
      "0      3       0      0     0   \n",
      "1      4       1      0     1   \n",
      "2      4       1      0     1   \n",
      "\n",
      "                                                text                 date  \\\n",
      "0  decide eat just aware going 2 hours beginning ...  2018-07-07 22:09:11   \n",
      "1  cute interior owner gave tour upcoming patio r...  2017-01-14 20:54:15   \n",
      "2  really 3 4 stars love 96th street naked tchops...  2018-07-17 03:30:07   \n",
      "\n",
      "   year  text_length sentiment_bin  mean_text_length_by_sentiment  \n",
      "0  2018          266      Positive                     273.788715  \n",
      "1  2017          343      Positive                     273.788715  \n",
      "2  2018          817      Positive                     273.788715  \n"
     ]
    },
    {
     "name": "stderr",
     "output_type": "stream",
     "text": [
      "/var/folders/x2/vxndd9ls79v3xdfmnnql9ndh0000gn/T/ipykernel_84591/3256900948.py:4: FutureWarning: The default of observed=False is deprecated and will be changed to True in a future version of pandas. Pass observed=False to retain current behavior or observed=True to adopt the future default and silence this warning.\n",
      "  df_reviews_preprocessed.groupby(\"sentiment_bin\")[\"text_length\"].transform(\"mean\")\n"
     ]
    }
   ],
   "source": [
    "# mean sentence length for each 'positive' and 'negative' sentimented text body in a dataset\n",
    "df_reviews_preprocessed['sentiment_bin'] = df_reviews_preprocessed['sentiment_bin'].astype('category')\n",
    "df_reviews_preprocessed[\"mean_text_length_by_sentiment\"] = (\n",
    "    df_reviews_preprocessed.groupby(\"sentiment_bin\")[\"text_length\"].transform(\"mean\")\n",
    ")\n",
    "\n",
    "print(df_reviews_preprocessed.head(3))\n"
   ]
  },
  {
   "cell_type": "code",
   "execution_count": 29,
   "id": "0d51336c",
   "metadata": {},
   "outputs": [
    {
     "name": "stdout",
     "output_type": "stream",
     "text": [
      "273.7887149897708\n",
      "367.99343156136354\n"
     ]
    }
   ],
   "source": [
    "# code value checking\n",
    "print(df_reviews_preprocessed[df_reviews_preprocessed['sentiment_bin']==\"Positive\"][\"mean_text_length_by_sentiment\"].iloc[3])\n",
    "print(df_reviews_preprocessed[df_reviews_preprocessed['sentiment_bin']==\"Negative\"][\"mean_text_length_by_sentiment\"].iloc[3])"
   ]
  },
  {
   "cell_type": "markdown",
   "id": "f1aca8df",
   "metadata": {},
   "source": [
    "## Tip dataset\n",
    "### Loading and Merging it with Reviews dataset"
   ]
  },
  {
   "cell_type": "code",
   "execution_count": 7,
   "id": "eccd319e",
   "metadata": {},
   "outputs": [
    {
     "name": "stdout",
     "output_type": "stream",
     "text": [
      "tip dataframe columns: Index(['user_id', 'business_id', 'text', 'date', 'compliment_count'], dtype='object')\n"
     ]
    },
    {
     "data": {
      "text/html": [
       "<div>\n",
       "<style scoped>\n",
       "    .dataframe tbody tr th:only-of-type {\n",
       "        vertical-align: middle;\n",
       "    }\n",
       "\n",
       "    .dataframe tbody tr th {\n",
       "        vertical-align: top;\n",
       "    }\n",
       "\n",
       "    .dataframe thead th {\n",
       "        text-align: right;\n",
       "    }\n",
       "</style>\n",
       "<table border=\"1\" class=\"dataframe\">\n",
       "  <thead>\n",
       "    <tr style=\"text-align: right;\">\n",
       "      <th></th>\n",
       "      <th>user_id</th>\n",
       "      <th>business_id</th>\n",
       "      <th>text</th>\n",
       "      <th>date</th>\n",
       "      <th>compliment_count</th>\n",
       "    </tr>\n",
       "  </thead>\n",
       "  <tbody>\n",
       "    <tr>\n",
       "      <th>0</th>\n",
       "      <td>AGNUgVwnZUey3gcPCJ76iw</td>\n",
       "      <td>3uLgwr0qeCNMjKenHJwPGQ</td>\n",
       "      <td>Avengers time with the ladies.</td>\n",
       "      <td>2012-05-18 02:17:21</td>\n",
       "      <td>0</td>\n",
       "    </tr>\n",
       "    <tr>\n",
       "      <th>1</th>\n",
       "      <td>NBN4MgHP9D3cw--SnauTkA</td>\n",
       "      <td>QoezRbYQncpRqyrLH6Iqjg</td>\n",
       "      <td>They have lots of good deserts and tasty cuban...</td>\n",
       "      <td>2013-02-05 18:35:10</td>\n",
       "      <td>0</td>\n",
       "    </tr>\n",
       "    <tr>\n",
       "      <th>2</th>\n",
       "      <td>-copOvldyKh1qr-vzkDEvw</td>\n",
       "      <td>MYoRNLb5chwjQe3c_k37Gg</td>\n",
       "      <td>It's open even when you think it isn't</td>\n",
       "      <td>2013-08-18 00:56:08</td>\n",
       "      <td>0</td>\n",
       "    </tr>\n",
       "  </tbody>\n",
       "</table>\n",
       "</div>"
      ],
      "text/plain": [
       "                  user_id             business_id  \\\n",
       "0  AGNUgVwnZUey3gcPCJ76iw  3uLgwr0qeCNMjKenHJwPGQ   \n",
       "1  NBN4MgHP9D3cw--SnauTkA  QoezRbYQncpRqyrLH6Iqjg   \n",
       "2  -copOvldyKh1qr-vzkDEvw  MYoRNLb5chwjQe3c_k37Gg   \n",
       "\n",
       "                                                text                 date  \\\n",
       "0                     Avengers time with the ladies.  2012-05-18 02:17:21   \n",
       "1  They have lots of good deserts and tasty cuban...  2013-02-05 18:35:10   \n",
       "2             It's open even when you think it isn't  2013-08-18 00:56:08   \n",
       "\n",
       "   compliment_count  \n",
       "0                 0  \n",
       "1                 0  \n",
       "2                 0  "
      ]
     },
     "execution_count": 7,
     "metadata": {},
     "output_type": "execute_result"
    }
   ],
   "source": [
    "tip_df = pd.read_csv('Data/tip_output.csv')\n",
    "print(\"tip dataframe columns:\", tip_df.columns)\n",
    "tip_df.head(3)"
   ]
  },
  {
   "cell_type": "code",
   "execution_count": 11,
   "id": "f1b95627",
   "metadata": {},
   "outputs": [
    {
     "name": "stdout",
     "output_type": "stream",
     "text": [
      "reviews dataframe columns: Index(['review_id', 'user_id', 'business_id', 'stars', 'useful', 'funny',\n",
      "       'cool', 'text', 'date', 'year', 'text_length'],\n",
      "      dtype='object')\n"
     ]
    },
    {
     "data": {
      "text/html": [
       "<div>\n",
       "<style scoped>\n",
       "    .dataframe tbody tr th:only-of-type {\n",
       "        vertical-align: middle;\n",
       "    }\n",
       "\n",
       "    .dataframe tbody tr th {\n",
       "        vertical-align: top;\n",
       "    }\n",
       "\n",
       "    .dataframe thead th {\n",
       "        text-align: right;\n",
       "    }\n",
       "</style>\n",
       "<table border=\"1\" class=\"dataframe\">\n",
       "  <thead>\n",
       "    <tr style=\"text-align: right;\">\n",
       "      <th></th>\n",
       "      <th>review_id</th>\n",
       "      <th>user_id</th>\n",
       "      <th>business_id</th>\n",
       "      <th>stars</th>\n",
       "      <th>useful</th>\n",
       "      <th>funny</th>\n",
       "      <th>cool</th>\n",
       "      <th>text</th>\n",
       "      <th>date</th>\n",
       "      <th>year</th>\n",
       "      <th>text_length</th>\n",
       "    </tr>\n",
       "  </thead>\n",
       "  <tbody>\n",
       "    <tr>\n",
       "      <th>0</th>\n",
       "      <td>KU_O5udG6zpxOg-VcAEodg</td>\n",
       "      <td>mh_-eMZ6K5RLWhZyISBhwA</td>\n",
       "      <td>XQfwVwDr-v0ZS3_CbbE5Xw</td>\n",
       "      <td>3</td>\n",
       "      <td>0</td>\n",
       "      <td>0</td>\n",
       "      <td>0</td>\n",
       "      <td>decide eat just aware going 2 hours beginning ...</td>\n",
       "      <td>2018-07-07 22:09:11</td>\n",
       "      <td>2018</td>\n",
       "      <td>266</td>\n",
       "    </tr>\n",
       "    <tr>\n",
       "      <th>1</th>\n",
       "      <td>Sx8TMOWLNuJBWer-0pcmoA</td>\n",
       "      <td>bcjbaE6dDog4jkNY91ncLQ</td>\n",
       "      <td>e4Vwtrqf-wpJfwesgvdgxQ</td>\n",
       "      <td>4</td>\n",
       "      <td>1</td>\n",
       "      <td>0</td>\n",
       "      <td>1</td>\n",
       "      <td>cute interior owner gave tour upcoming patio r...</td>\n",
       "      <td>2017-01-14 20:54:15</td>\n",
       "      <td>2017</td>\n",
       "      <td>343</td>\n",
       "    </tr>\n",
       "    <tr>\n",
       "      <th>2</th>\n",
       "      <td>lUUhg8ltDsUZ9h0xnwY4Dg</td>\n",
       "      <td>RreNy--tOmXMl1en0wiBOg</td>\n",
       "      <td>cPepkJeRMtHapc_b2Oe_dw</td>\n",
       "      <td>4</td>\n",
       "      <td>1</td>\n",
       "      <td>0</td>\n",
       "      <td>1</td>\n",
       "      <td>really 3 4 stars love 96th street naked tchops...</td>\n",
       "      <td>2018-07-17 03:30:07</td>\n",
       "      <td>2018</td>\n",
       "      <td>817</td>\n",
       "    </tr>\n",
       "  </tbody>\n",
       "</table>\n",
       "</div>"
      ],
      "text/plain": [
       "                review_id                 user_id             business_id  \\\n",
       "0  KU_O5udG6zpxOg-VcAEodg  mh_-eMZ6K5RLWhZyISBhwA  XQfwVwDr-v0ZS3_CbbE5Xw   \n",
       "1  Sx8TMOWLNuJBWer-0pcmoA  bcjbaE6dDog4jkNY91ncLQ  e4Vwtrqf-wpJfwesgvdgxQ   \n",
       "2  lUUhg8ltDsUZ9h0xnwY4Dg  RreNy--tOmXMl1en0wiBOg  cPepkJeRMtHapc_b2Oe_dw   \n",
       "\n",
       "   stars  useful  funny  cool  \\\n",
       "0      3       0      0     0   \n",
       "1      4       1      0     1   \n",
       "2      4       1      0     1   \n",
       "\n",
       "                                                text                 date  \\\n",
       "0  decide eat just aware going 2 hours beginning ...  2018-07-07 22:09:11   \n",
       "1  cute interior owner gave tour upcoming patio r...  2017-01-14 20:54:15   \n",
       "2  really 3 4 stars love 96th street naked tchops...  2018-07-17 03:30:07   \n",
       "\n",
       "   year  text_length  \n",
       "0  2018          266  \n",
       "1  2017          343  \n",
       "2  2018          817  "
      ]
     },
     "execution_count": 11,
     "metadata": {},
     "output_type": "execute_result"
    }
   ],
   "source": [
    "# loading the final reviews data frame\n",
    "df_reviews_preprocessed = pd.read_csv('Data/textprocessed_reviews_2017-2022.csv')\n",
    "print(\"reviews dataframe columns:\", df_reviews_preprocessed.columns)\n",
    "df_reviews_preprocessed.head(3)"
   ]
  },
  {
   "cell_type": "code",
   "execution_count": 26,
   "id": "28047485",
   "metadata": {},
   "outputs": [
    {
     "name": "stdout",
     "output_type": "stream",
     "text": [
      "reviews_clean data columns before concat: Index(['review_id', 'user_id', 'business_id', 'stars', 'useful', 'funny',\n",
      "       'cool', 'text', 'date', 'year', 'text_length'],\n",
      "      dtype='object')\n",
      "tips_clean data columns before concat: Index(['user_id', 'business_id', 'text', 'date', 'compliment_count'], dtype='object')\n"
     ]
    }
   ],
   "source": [
    "# before concat, add identifier column\n",
    "reviews_clean = df_reviews_preprocessed[['review_id', 'user_id', 'business_id', 'stars', 'useful', 'funny',\n",
    "       'cool', 'text', 'date', 'year', 'text_length']].copy()\n",
    "tips_clean = tip_df[['user_id', 'business_id', 'text', 'date', 'compliment_count']].copy()\n",
    "print(\"reviews_clean data columns before concat:\", reviews_clean.columns)\n",
    "print(\"tips_clean data columns before concat:\", tips_clean.columns)"
   ]
  },
  {
   "cell_type": "code",
   "execution_count": 27,
   "id": "a5be50bf",
   "metadata": {},
   "outputs": [
    {
     "name": "stdout",
     "output_type": "stream",
     "text": [
      "reviews_clean data size before concat: 3838105\n",
      "tips_clean data size before concat: 908915\n"
     ]
    }
   ],
   "source": [
    "print(\"reviews_clean data size before concat:\", reviews_clean.shape[0])\n",
    "print(\"tips_clean data size before concat:\", tips_clean.shape[0])"
   ]
  },
  {
   "cell_type": "markdown",
   "id": "200646f5",
   "metadata": {},
   "source": [
    "### Data understanding ---> tips dataset\n",
    "#### Tip dataset has the \"text\" column, it is a shorter version of the whole review text body itself\n",
    "In this case, we would be renaming this column in `tip` dataset prior to merging. \n",
    "Preserving this column to use it as another alternative to train for predictive analytics\n",
    "\n",
    "#### Common columns shared between `review` and `tip` datasets::\n",
    "1. business_id\n",
    "2. user_id\n",
    "3. date\n",
    "\n",
    "\n",
    "#### Logic of merging these 2 datasets\n",
    "Left join on `reviews` data would be performed.\n",
    "i.e. Keeps all reviews, adds tip data where available\n",
    "\n",
    "1. Preserves all your review data (no reviews lost)\n",
    "2. Adds tip information where available\n",
    "3. Maintains data integrity for your primary dataset (reviews)\n",
    "4. Clear analysis: You can easily compare reviews with vs without tips"
   ]
  },
  {
   "cell_type": "code",
   "execution_count": 28,
   "id": "c600d76e",
   "metadata": {},
   "outputs": [
    {
     "data": {
      "text/plain": [
       "Index(['user_id', 'business_id', 'tip_text', 'date', 'compliment_count'], dtype='object')"
      ]
     },
     "execution_count": 28,
     "metadata": {},
     "output_type": "execute_result"
    }
   ],
   "source": [
    "# renaming of `text` column in tips dataset\n",
    "tips_clean.rename(columns={'text': 'tip_text'}, inplace=True)\n",
    "tips_clean.columns"
   ]
  },
  {
   "cell_type": "code",
   "execution_count": 31,
   "id": "c4a1fd2e",
   "metadata": {},
   "outputs": [
    {
     "name": "stdout",
     "output_type": "stream",
     "text": [
      "Merged dataframe shape: (3866853, 14)\n",
      "Original reviews shape: (3838105, 11)\n",
      "Original tips shape: (908915, 5)\n"
     ]
    }
   ],
   "source": [
    "# concatenate the 2 dataframes\n",
    "merged_df_reviews_tip = pd.merge(reviews_clean, tips_clean, \n",
    "                    on=['user_id', 'business_id'], \n",
    "                    how='left',\n",
    "                    suffixes=('_review', '_tip'))\n",
    "\n",
    "print(f\"Merged dataframe shape: {merged_df_reviews_tip.shape}\")\n",
    "print(f\"Original reviews shape: {reviews_clean.shape}\")\n",
    "print(f\"Original tips shape: {tips_clean.shape}\")\n"
   ]
  },
  {
   "cell_type": "code",
   "execution_count": 32,
   "id": "4440e0bc",
   "metadata": {},
   "outputs": [
    {
     "data": {
      "text/html": [
       "<div>\n",
       "<style scoped>\n",
       "    .dataframe tbody tr th:only-of-type {\n",
       "        vertical-align: middle;\n",
       "    }\n",
       "\n",
       "    .dataframe tbody tr th {\n",
       "        vertical-align: top;\n",
       "    }\n",
       "\n",
       "    .dataframe thead th {\n",
       "        text-align: right;\n",
       "    }\n",
       "</style>\n",
       "<table border=\"1\" class=\"dataframe\">\n",
       "  <thead>\n",
       "    <tr style=\"text-align: right;\">\n",
       "      <th></th>\n",
       "      <th>review_id</th>\n",
       "      <th>user_id</th>\n",
       "      <th>business_id</th>\n",
       "      <th>stars</th>\n",
       "      <th>useful</th>\n",
       "      <th>funny</th>\n",
       "      <th>cool</th>\n",
       "      <th>text</th>\n",
       "      <th>date_review</th>\n",
       "      <th>year</th>\n",
       "      <th>text_length</th>\n",
       "      <th>tip_text</th>\n",
       "      <th>date_tip</th>\n",
       "      <th>compliment_count</th>\n",
       "    </tr>\n",
       "  </thead>\n",
       "  <tbody>\n",
       "    <tr>\n",
       "      <th>0</th>\n",
       "      <td>KU_O5udG6zpxOg-VcAEodg</td>\n",
       "      <td>mh_-eMZ6K5RLWhZyISBhwA</td>\n",
       "      <td>XQfwVwDr-v0ZS3_CbbE5Xw</td>\n",
       "      <td>3</td>\n",
       "      <td>0</td>\n",
       "      <td>0</td>\n",
       "      <td>0</td>\n",
       "      <td>decide eat just aware going 2 hours beginning ...</td>\n",
       "      <td>2018-07-07 22:09:11</td>\n",
       "      <td>2018</td>\n",
       "      <td>266</td>\n",
       "      <td>NaN</td>\n",
       "      <td>NaN</td>\n",
       "      <td>NaN</td>\n",
       "    </tr>\n",
       "    <tr>\n",
       "      <th>1</th>\n",
       "      <td>Sx8TMOWLNuJBWer-0pcmoA</td>\n",
       "      <td>bcjbaE6dDog4jkNY91ncLQ</td>\n",
       "      <td>e4Vwtrqf-wpJfwesgvdgxQ</td>\n",
       "      <td>4</td>\n",
       "      <td>1</td>\n",
       "      <td>0</td>\n",
       "      <td>1</td>\n",
       "      <td>cute interior owner gave tour upcoming patio r...</td>\n",
       "      <td>2017-01-14 20:54:15</td>\n",
       "      <td>2017</td>\n",
       "      <td>343</td>\n",
       "      <td>NaN</td>\n",
       "      <td>NaN</td>\n",
       "      <td>NaN</td>\n",
       "    </tr>\n",
       "    <tr>\n",
       "      <th>2</th>\n",
       "      <td>lUUhg8ltDsUZ9h0xnwY4Dg</td>\n",
       "      <td>RreNy--tOmXMl1en0wiBOg</td>\n",
       "      <td>cPepkJeRMtHapc_b2Oe_dw</td>\n",
       "      <td>4</td>\n",
       "      <td>1</td>\n",
       "      <td>0</td>\n",
       "      <td>1</td>\n",
       "      <td>really 3 4 stars love 96th street naked tchops...</td>\n",
       "      <td>2018-07-17 03:30:07</td>\n",
       "      <td>2018</td>\n",
       "      <td>817</td>\n",
       "      <td>NaN</td>\n",
       "      <td>NaN</td>\n",
       "      <td>NaN</td>\n",
       "    </tr>\n",
       "  </tbody>\n",
       "</table>\n",
       "</div>"
      ],
      "text/plain": [
       "                review_id                 user_id             business_id  \\\n",
       "0  KU_O5udG6zpxOg-VcAEodg  mh_-eMZ6K5RLWhZyISBhwA  XQfwVwDr-v0ZS3_CbbE5Xw   \n",
       "1  Sx8TMOWLNuJBWer-0pcmoA  bcjbaE6dDog4jkNY91ncLQ  e4Vwtrqf-wpJfwesgvdgxQ   \n",
       "2  lUUhg8ltDsUZ9h0xnwY4Dg  RreNy--tOmXMl1en0wiBOg  cPepkJeRMtHapc_b2Oe_dw   \n",
       "\n",
       "   stars  useful  funny  cool  \\\n",
       "0      3       0      0     0   \n",
       "1      4       1      0     1   \n",
       "2      4       1      0     1   \n",
       "\n",
       "                                                text          date_review  \\\n",
       "0  decide eat just aware going 2 hours beginning ...  2018-07-07 22:09:11   \n",
       "1  cute interior owner gave tour upcoming patio r...  2017-01-14 20:54:15   \n",
       "2  really 3 4 stars love 96th street naked tchops...  2018-07-17 03:30:07   \n",
       "\n",
       "   year  text_length tip_text date_tip  compliment_count  \n",
       "0  2018          266      NaN      NaN               NaN  \n",
       "1  2017          343      NaN      NaN               NaN  \n",
       "2  2018          817      NaN      NaN               NaN  "
      ]
     },
     "execution_count": 32,
     "metadata": {},
     "output_type": "execute_result"
    }
   ],
   "source": [
    "merged_df_reviews_tip.head(3)"
   ]
  },
  {
   "cell_type": "code",
   "execution_count": 34,
   "id": "b03321d3",
   "metadata": {},
   "outputs": [
    {
     "data": {
      "text/plain": [
       "array([nan,\n",
       "       'Great staff always helps and always nice. Always clean and huge store size.',\n",
       "       \"Get the Gator gumbo! I don't care if you don't like or never tried Gator, just get it!\",\n",
       "       ...,\n",
       "       'Jerome cooks back in the kitchen all the time. As I waited for my food I noticed a box on the counter of the pastry display case. It was Asking for donations to help Jerome pay for his visa to be able to stay in the states and continue to work his business. I was compelled to help because I know what it is like when I had family that came to the states to start a life for themselves. \\n\\nIf you love the food please help him...',\n",
       "       'Oct 2020: Currently $15 admission price for adults. There are discounts for select groups.',\n",
       "       'Temple University blatantly disregards freedoms of students'],\n",
       "      shape=(111672,), dtype=object)"
      ]
     },
     "execution_count": 34,
     "metadata": {},
     "output_type": "execute_result"
    }
   ],
   "source": [
    "merged_df_reviews_tip['tip_text'].unique()"
   ]
  },
  {
   "cell_type": "code",
   "execution_count": 37,
   "id": "f80e72d4",
   "metadata": {},
   "outputs": [
    {
     "name": "stdout",
     "output_type": "stream",
     "text": [
      "Reviews with tips: 137154\n",
      "Reviews without tips: 3729699\n",
      "Percentage count of Reviews without tips: 96.45%\n",
      "Total reviews: 3866853\n"
     ]
    }
   ],
   "source": [
    "# Check how many reviews have matching tips\n",
    "has_tipText = merged_df_reviews_tip['tip_text'].notna()\n",
    "print(f\"Reviews with tips: {has_tipText.sum()}\")\n",
    "print(f\"Reviews without tips: {len(merged_df_reviews_tip) - has_tipText.sum()}\")\n",
    "print(f\"Percentage count of Reviews without tips: {(len(merged_df_reviews_tip) - has_tipText.sum()) / len(merged_df_reviews_tip) * 100:.2f}%\")\n",
    "print(f\"Total reviews: {len(merged_df_reviews_tip)}\")"
   ]
  },
  {
   "cell_type": "code",
   "execution_count": 38,
   "id": "fbef742e",
   "metadata": {},
   "outputs": [
    {
     "name": "stdout",
     "output_type": "stream",
     "text": [
      "<class 'pandas.core.frame.DataFrame'>\n",
      "RangeIndex: 3866853 entries, 0 to 3866852\n",
      "Data columns (total 14 columns):\n",
      " #   Column            Dtype  \n",
      "---  ------            -----  \n",
      " 0   review_id         object \n",
      " 1   user_id           object \n",
      " 2   business_id       object \n",
      " 3   stars             int64  \n",
      " 4   useful            int64  \n",
      " 5   funny             int64  \n",
      " 6   cool              int64  \n",
      " 7   text              object \n",
      " 8   date_review       object \n",
      " 9   year              int64  \n",
      " 10  text_length       int64  \n",
      " 11  tip_text          object \n",
      " 12  date_tip          object \n",
      " 13  compliment_count  float64\n",
      "dtypes: float64(1), int64(6), object(7)\n",
      "memory usage: 413.0+ MB\n"
     ]
    }
   ],
   "source": [
    "merged_df_reviews_tip.info()"
   ]
  },
  {
   "cell_type": "code",
   "execution_count": 41,
   "id": "d30d15f8",
   "metadata": {},
   "outputs": [
    {
     "data": {
      "text/html": [
       "<div>\n",
       "<style scoped>\n",
       "    .dataframe tbody tr th:only-of-type {\n",
       "        vertical-align: middle;\n",
       "    }\n",
       "\n",
       "    .dataframe tbody tr th {\n",
       "        vertical-align: top;\n",
       "    }\n",
       "\n",
       "    .dataframe thead th {\n",
       "        text-align: right;\n",
       "    }\n",
       "</style>\n",
       "<table border=\"1\" class=\"dataframe\">\n",
       "  <thead>\n",
       "    <tr style=\"text-align: right;\">\n",
       "      <th></th>\n",
       "      <th>review_id</th>\n",
       "      <th>user_id</th>\n",
       "      <th>business_id</th>\n",
       "      <th>stars</th>\n",
       "      <th>useful</th>\n",
       "      <th>funny</th>\n",
       "      <th>cool</th>\n",
       "      <th>text</th>\n",
       "      <th>date_review</th>\n",
       "      <th>year</th>\n",
       "      <th>text_length</th>\n",
       "      <th>tip_text</th>\n",
       "      <th>has_tip</th>\n",
       "    </tr>\n",
       "  </thead>\n",
       "  <tbody>\n",
       "    <tr>\n",
       "      <th>0</th>\n",
       "      <td>KU_O5udG6zpxOg-VcAEodg</td>\n",
       "      <td>mh_-eMZ6K5RLWhZyISBhwA</td>\n",
       "      <td>XQfwVwDr-v0ZS3_CbbE5Xw</td>\n",
       "      <td>3</td>\n",
       "      <td>0</td>\n",
       "      <td>0</td>\n",
       "      <td>0</td>\n",
       "      <td>decide eat just aware going 2 hours beginning ...</td>\n",
       "      <td>2018-07-07 22:09:11</td>\n",
       "      <td>2018</td>\n",
       "      <td>266</td>\n",
       "      <td>NaN</td>\n",
       "      <td>False</td>\n",
       "    </tr>\n",
       "    <tr>\n",
       "      <th>1</th>\n",
       "      <td>Sx8TMOWLNuJBWer-0pcmoA</td>\n",
       "      <td>bcjbaE6dDog4jkNY91ncLQ</td>\n",
       "      <td>e4Vwtrqf-wpJfwesgvdgxQ</td>\n",
       "      <td>4</td>\n",
       "      <td>1</td>\n",
       "      <td>0</td>\n",
       "      <td>1</td>\n",
       "      <td>cute interior owner gave tour upcoming patio r...</td>\n",
       "      <td>2017-01-14 20:54:15</td>\n",
       "      <td>2017</td>\n",
       "      <td>343</td>\n",
       "      <td>NaN</td>\n",
       "      <td>False</td>\n",
       "    </tr>\n",
       "  </tbody>\n",
       "</table>\n",
       "</div>"
      ],
      "text/plain": [
       "                review_id                 user_id             business_id  \\\n",
       "0  KU_O5udG6zpxOg-VcAEodg  mh_-eMZ6K5RLWhZyISBhwA  XQfwVwDr-v0ZS3_CbbE5Xw   \n",
       "1  Sx8TMOWLNuJBWer-0pcmoA  bcjbaE6dDog4jkNY91ncLQ  e4Vwtrqf-wpJfwesgvdgxQ   \n",
       "\n",
       "   stars  useful  funny  cool  \\\n",
       "0      3       0      0     0   \n",
       "1      4       1      0     1   \n",
       "\n",
       "                                                text          date_review  \\\n",
       "0  decide eat just aware going 2 hours beginning ...  2018-07-07 22:09:11   \n",
       "1  cute interior owner gave tour upcoming patio r...  2017-01-14 20:54:15   \n",
       "\n",
       "   year  text_length tip_text  has_tip  \n",
       "0  2018          266      NaN    False  \n",
       "1  2017          343      NaN    False  "
      ]
     },
     "execution_count": 41,
     "metadata": {},
     "output_type": "execute_result"
    }
   ],
   "source": [
    "# refine the merged dataframe, remove the new columns from tips dataset\n",
    "merged_df_reviews_tip = merged_df_reviews_tip[['review_id', 'user_id', 'business_id', 'stars', 'useful', 'funny',\n",
    "       'cool', 'text', 'date_review', 'year', 'text_length', 'tip_text']]\n",
    "\n",
    "reviews_with_tip_flag_df = merged_df_reviews_tip.copy()\n",
    "# add a simple boolean flag for \"has_tip\" when tip_text is not null\n",
    "reviews_with_tip_flag_df['has_tip'] = reviews_with_tip_flag_df['tip_text'].notna()\n",
    "reviews_with_tip_flag_df.head(2)"
   ]
  },
  {
   "cell_type": "code",
   "execution_count": 43,
   "id": "d60d4230",
   "metadata": {},
   "outputs": [
    {
     "data": {
      "text/html": [
       "<div>\n",
       "<style scoped>\n",
       "    .dataframe tbody tr th:only-of-type {\n",
       "        vertical-align: middle;\n",
       "    }\n",
       "\n",
       "    .dataframe tbody tr th {\n",
       "        vertical-align: top;\n",
       "    }\n",
       "\n",
       "    .dataframe thead th {\n",
       "        text-align: right;\n",
       "    }\n",
       "</style>\n",
       "<table border=\"1\" class=\"dataframe\">\n",
       "  <thead>\n",
       "    <tr style=\"text-align: right;\">\n",
       "      <th></th>\n",
       "      <th>review_id</th>\n",
       "      <th>user_id</th>\n",
       "      <th>business_id</th>\n",
       "      <th>stars</th>\n",
       "      <th>useful</th>\n",
       "      <th>funny</th>\n",
       "      <th>cool</th>\n",
       "      <th>text</th>\n",
       "      <th>date_review</th>\n",
       "      <th>year</th>\n",
       "      <th>text_length</th>\n",
       "      <th>has_tip</th>\n",
       "    </tr>\n",
       "  </thead>\n",
       "  <tbody>\n",
       "    <tr>\n",
       "      <th>0</th>\n",
       "      <td>KU_O5udG6zpxOg-VcAEodg</td>\n",
       "      <td>mh_-eMZ6K5RLWhZyISBhwA</td>\n",
       "      <td>XQfwVwDr-v0ZS3_CbbE5Xw</td>\n",
       "      <td>3</td>\n",
       "      <td>0</td>\n",
       "      <td>0</td>\n",
       "      <td>0</td>\n",
       "      <td>decide eat just aware going 2 hours beginning ...</td>\n",
       "      <td>2018-07-07 22:09:11</td>\n",
       "      <td>2018</td>\n",
       "      <td>266</td>\n",
       "      <td>False</td>\n",
       "    </tr>\n",
       "    <tr>\n",
       "      <th>1</th>\n",
       "      <td>Sx8TMOWLNuJBWer-0pcmoA</td>\n",
       "      <td>bcjbaE6dDog4jkNY91ncLQ</td>\n",
       "      <td>e4Vwtrqf-wpJfwesgvdgxQ</td>\n",
       "      <td>4</td>\n",
       "      <td>1</td>\n",
       "      <td>0</td>\n",
       "      <td>1</td>\n",
       "      <td>cute interior owner gave tour upcoming patio r...</td>\n",
       "      <td>2017-01-14 20:54:15</td>\n",
       "      <td>2017</td>\n",
       "      <td>343</td>\n",
       "      <td>False</td>\n",
       "    </tr>\n",
       "  </tbody>\n",
       "</table>\n",
       "</div>"
      ],
      "text/plain": [
       "                review_id                 user_id             business_id  \\\n",
       "0  KU_O5udG6zpxOg-VcAEodg  mh_-eMZ6K5RLWhZyISBhwA  XQfwVwDr-v0ZS3_CbbE5Xw   \n",
       "1  Sx8TMOWLNuJBWer-0pcmoA  bcjbaE6dDog4jkNY91ncLQ  e4Vwtrqf-wpJfwesgvdgxQ   \n",
       "\n",
       "   stars  useful  funny  cool  \\\n",
       "0      3       0      0     0   \n",
       "1      4       1      0     1   \n",
       "\n",
       "                                                text          date_review  \\\n",
       "0  decide eat just aware going 2 hours beginning ...  2018-07-07 22:09:11   \n",
       "1  cute interior owner gave tour upcoming patio r...  2017-01-14 20:54:15   \n",
       "\n",
       "   year  text_length  has_tip  \n",
       "0  2018          266    False  \n",
       "1  2017          343    False  "
      ]
     },
     "execution_count": 43,
     "metadata": {},
     "output_type": "execute_result"
    }
   ],
   "source": [
    "# drop tip_text column, retain boolean flag\n",
    "reviews_with_tip_flag_df = reviews_with_tip_flag_df[['review_id', 'user_id', 'business_id', 'stars', 'useful', 'funny',\n",
    "       'cool', 'text', 'date_review', 'year', 'text_length','has_tip']]\n",
    "reviews_with_tip_flag_df.head(2)"
   ]
  },
  {
   "cell_type": "code",
   "execution_count": 49,
   "id": "7def9f80",
   "metadata": {},
   "outputs": [],
   "source": [
    "reviews_with_tip_flag_df.to_csv('reviews_with_tip_flag_df.csv', index=False)"
   ]
  },
  {
   "cell_type": "code",
   "execution_count": 44,
   "id": "c1df5a69",
   "metadata": {},
   "outputs": [
    {
     "name": "stdout",
     "output_type": "stream",
     "text": [
      "merged_reviews_with_tips_text_df shape: (137154, 12)\n"
     ]
    }
   ],
   "source": [
    "# segregate and keep a small dataset of reviews with tip\n",
    "has_tipText = merged_df_reviews_tip['tip_text'].notna()\n",
    "merged_reviews_with_tips_text_df = merged_df_reviews_tip[has_tipText]\n",
    "print('merged_reviews_with_tips_text_df shape:', merged_reviews_with_tips_text_df.shape)"
   ]
  },
  {
   "cell_type": "code",
   "execution_count": 47,
   "id": "69542ee9",
   "metadata": {},
   "outputs": [
    {
     "data": {
      "text/plain": [
       "'tim hortons location gonna love entering modern cafe shiek combined fact s lot open space won t feel cramped open ceiling ve noticed minimizes crowd sounds ll able amazing conversations friends'"
      ]
     },
     "execution_count": 47,
     "metadata": {},
     "output_type": "execute_result"
    }
   ],
   "source": [
    "merged_reviews_with_tips_text_df.iloc[43]['text']"
   ]
  },
  {
   "cell_type": "code",
   "execution_count": 48,
   "id": "f6949bab",
   "metadata": {},
   "outputs": [
    {
     "data": {
      "text/plain": [
       "\"Bring a pillow this Tim's has the just right atmosphere you might nap\""
      ]
     },
     "execution_count": 48,
     "metadata": {},
     "output_type": "execute_result"
    }
   ],
   "source": [
    "merged_reviews_with_tips_text_df.iloc[43]['tip_text']"
   ]
  },
  {
   "cell_type": "code",
   "execution_count": 51,
   "id": "c65b909b",
   "metadata": {},
   "outputs": [
    {
     "data": {
      "text/html": [
       "<div>\n",
       "<style scoped>\n",
       "    .dataframe tbody tr th:only-of-type {\n",
       "        vertical-align: middle;\n",
       "    }\n",
       "\n",
       "    .dataframe tbody tr th {\n",
       "        vertical-align: top;\n",
       "    }\n",
       "\n",
       "    .dataframe thead th {\n",
       "        text-align: right;\n",
       "    }\n",
       "</style>\n",
       "<table border=\"1\" class=\"dataframe\">\n",
       "  <thead>\n",
       "    <tr style=\"text-align: right;\">\n",
       "      <th></th>\n",
       "      <th>review_id</th>\n",
       "      <th>user_id</th>\n",
       "      <th>business_id</th>\n",
       "      <th>stars</th>\n",
       "      <th>useful</th>\n",
       "      <th>funny</th>\n",
       "      <th>cool</th>\n",
       "      <th>text</th>\n",
       "      <th>date_review</th>\n",
       "      <th>year</th>\n",
       "      <th>text_length</th>\n",
       "      <th>tip_text</th>\n",
       "    </tr>\n",
       "  </thead>\n",
       "  <tbody>\n",
       "    <tr>\n",
       "      <th>5</th>\n",
       "      <td>40thYphUgIfvJq17QCfTwA</td>\n",
       "      <td>QzCEzH3R7Z6erOGLr3t55Q</td>\n",
       "      <td>0pMj5xUAecW9o1P35B0AMw</td>\n",
       "      <td>5</td>\n",
       "      <td>1</td>\n",
       "      <td>0</td>\n",
       "      <td>1</td>\n",
       "      <td>great staff helps nice clean huge store size s...</td>\n",
       "      <td>2017-05-26 13:10:24</td>\n",
       "      <td>2017</td>\n",
       "      <td>103</td>\n",
       "      <td>Great staff always helps and always nice. Alwa...</td>\n",
       "    </tr>\n",
       "    <tr>\n",
       "      <th>57</th>\n",
       "      <td>g7MfpJGKQUGowCvIcrB91A</td>\n",
       "      <td>ci7Q6NvXQ8UZrBHusVX18g</td>\n",
       "      <td>V6Om7YZhlRQRU7WfuxHq8Q</td>\n",
       "      <td>4</td>\n",
       "      <td>1</td>\n",
       "      <td>0</td>\n",
       "      <td>0</td>\n",
       "      <td>wee bit pricey portions serve come beck s gato...</td>\n",
       "      <td>2017-07-08 21:23:54</td>\n",
       "      <td>2017</td>\n",
       "      <td>291</td>\n",
       "      <td>Get the Gator gumbo! I don't care if you don't...</td>\n",
       "    </tr>\n",
       "    <tr>\n",
       "      <th>60</th>\n",
       "      <td>mUMveMkONaNYXmNig65xhQ</td>\n",
       "      <td>iwxNSCgu-lEXtLSdPI4EyA</td>\n",
       "      <td>EDjEVzmoQVHzboFqC-M6Ew</td>\n",
       "      <td>5</td>\n",
       "      <td>0</td>\n",
       "      <td>0</td>\n",
       "      <td>0</td>\n",
       "      <td>lots improvements place comfortable environmen...</td>\n",
       "      <td>2017-11-18 20:45:15</td>\n",
       "      <td>2017</td>\n",
       "      <td>124</td>\n",
       "      <td>Add more options to the menu</td>\n",
       "    </tr>\n",
       "  </tbody>\n",
       "</table>\n",
       "</div>"
      ],
      "text/plain": [
       "                 review_id                 user_id             business_id  \\\n",
       "5   40thYphUgIfvJq17QCfTwA  QzCEzH3R7Z6erOGLr3t55Q  0pMj5xUAecW9o1P35B0AMw   \n",
       "57  g7MfpJGKQUGowCvIcrB91A  ci7Q6NvXQ8UZrBHusVX18g  V6Om7YZhlRQRU7WfuxHq8Q   \n",
       "60  mUMveMkONaNYXmNig65xhQ  iwxNSCgu-lEXtLSdPI4EyA  EDjEVzmoQVHzboFqC-M6Ew   \n",
       "\n",
       "    stars  useful  funny  cool  \\\n",
       "5       5       1      0     1   \n",
       "57      4       1      0     0   \n",
       "60      5       0      0     0   \n",
       "\n",
       "                                                 text          date_review  \\\n",
       "5   great staff helps nice clean huge store size s...  2017-05-26 13:10:24   \n",
       "57  wee bit pricey portions serve come beck s gato...  2017-07-08 21:23:54   \n",
       "60  lots improvements place comfortable environmen...  2017-11-18 20:45:15   \n",
       "\n",
       "    year  text_length                                           tip_text  \n",
       "5   2017          103  Great staff always helps and always nice. Alwa...  \n",
       "57  2017          291  Get the Gator gumbo! I don't care if you don't...  \n",
       "60  2017          124                       Add more options to the menu  "
      ]
     },
     "execution_count": 51,
     "metadata": {},
     "output_type": "execute_result"
    }
   ],
   "source": [
    "merged_reviews_with_tips_text_df.head(3)"
   ]
  },
  {
   "cell_type": "code",
   "execution_count": 50,
   "id": "84791368",
   "metadata": {},
   "outputs": [],
   "source": [
    "merged_reviews_with_tips_text_df.to_csv('merged_reviews_with_tips_text_df.csv', index=False)"
   ]
  },
  {
   "cell_type": "markdown",
   "id": "64dc934b",
   "metadata": {},
   "source": [
    "## business dataset"
   ]
  },
  {
   "cell_type": "code",
   "execution_count": 33,
   "id": "82b6d07f",
   "metadata": {},
   "outputs": [],
   "source": [
    "import json\n",
    "\n",
    "# Load nested JSON\n",
    "with open(\"yelp_food_businesses.json\", \"r\") as f:\n",
    "    df_biz   = json.load(f)\n",
    "\n",
    "# Flatten / normalize JSON\n",
    "df_biz = pd.json_normalize(df_biz)"
   ]
  },
  {
   "cell_type": "code",
   "execution_count": 37,
   "id": "6469cfe2",
   "metadata": {},
   "outputs": [
    {
     "data": {
      "text/plain": [
       "nan"
      ]
     },
     "execution_count": 37,
     "metadata": {},
     "output_type": "execute_result"
    }
   ],
   "source": [
    "# len(df_biz.columns)\n",
    "df_biz.iloc[55]['attributes.WiFi']"
   ]
  },
  {
   "cell_type": "markdown",
   "id": "3f4ec648",
   "metadata": {},
   "source": [
    "#### 1 added new column:\n",
    "category_type"
   ]
  },
  {
   "cell_type": "code",
   "execution_count": null,
   "id": "88039543",
   "metadata": {},
   "outputs": [
    {
     "name": "stdout",
     "output_type": "stream",
     "text": [
      "size of reviews dataset:: (64395, 59)\n",
      "              business_id                      name                 address  \\\n",
      "0  Pns2l4eNsfO8kk83dixA6A  Abby Rappoport, LAC, CMQ  1616 Chapala St, Ste 2   \n",
      "1  MTSW4McQd7CbVtyjqoe9mw        St Honore Pastries             935 Race St   \n",
      "2  mWMc6_wTdE0EUBKIGXDVfA  Perkiomen Valley Brewery           101 Walnut St   \n",
      "3  CF33F8-E6oudUQ46HnavjQ            Sonic Drive-In           615 S Main St   \n",
      "4  k0hlBqXX-Bt0vf1op7Jr1w     Tsevi's Pub And Grill       8025 Mackenzie Rd   \n",
      "\n",
      "            city state postal_code  latitude  longitude  stars  review_count  \\\n",
      "0  Santa Barbara    CA       93101   34.4267  -119.7112    5.0             7   \n",
      "1   Philadelphia    PA       19107   39.9555   -75.1556    4.0            80   \n",
      "2     Green Lane    PA       18054   40.3382   -75.4717    4.5            13   \n",
      "3   Ashland City    TN       37015   36.2696   -87.0589    2.0             6   \n",
      "4         Affton    MO       63123   38.5652   -90.3211    3.0            19   \n",
      "\n",
      "   ...  attributes.BestNights attributes.BYOB attributes.Corkage  \\\n",
      "0  ...                    NaN             NaN                NaN   \n",
      "1  ...                    NaN             NaN                NaN   \n",
      "2  ...                    NaN             NaN                NaN   \n",
      "3  ...                    NaN             NaN                NaN   \n",
      "4  ...                    NaN             NaN                NaN   \n",
      "\n",
      "  attributes.BYOBCorkage attributes.AcceptsInsurance  \\\n",
      "0                    NaN                         NaN   \n",
      "1                    NaN                         NaN   \n",
      "2                    NaN                         NaN   \n",
      "3                    NaN                         NaN   \n",
      "4                    NaN                         NaN   \n",
      "\n",
      "  attributes.RestaurantsCounterService attributes.Open24Hours  \\\n",
      "0                                  NaN                    NaN   \n",
      "1                                  NaN                    NaN   \n",
      "2                                  NaN                    NaN   \n",
      "3                                  NaN                    NaN   \n",
      "4                                  NaN                    NaN   \n",
      "\n",
      "  attributes.AgesAllowed attributes.DietaryRestrictions  \\\n",
      "0                    NaN                            NaN   \n",
      "1                    NaN                            NaN   \n",
      "2                    NaN                            NaN   \n",
      "3                    NaN                            NaN   \n",
      "4                    NaN                            NaN   \n",
      "\n",
      "  attributes.HairSpecializesIn  \n",
      "0                          NaN  \n",
      "1                          NaN  \n",
      "2                          NaN  \n",
      "3                          NaN  \n",
      "4                          NaN  \n",
      "\n",
      "[5 rows x 59 columns]\n"
     ]
    }
   ],
   "source": [
    "# df_biz = pd.read_csv('Data/business_output.csv', low_memory=False) # loading the original unfiltered business data\n",
    "print('size of reviews dataset::', df_biz.shape)\n",
    "print(df_biz.head())"
   ]
  },
  {
   "cell_type": "code",
   "execution_count": 96,
   "id": "afb1fe8d",
   "metadata": {},
   "outputs": [
    {
     "data": {
      "text/plain": [
       "Index(['business_id', 'name', 'address', 'city', 'state', 'postal_code',\n",
       "       'latitude', 'longitude', 'stars', 'review_count', 'is_open',\n",
       "       'categories', 'category_type', 'attributes.ByAppointmentOnly',\n",
       "       'attributes.BusinessAcceptsCreditCards', 'attributes.BikeParking',\n",
       "       'attributes.RestaurantsPriceRange2', 'attributes.RestaurantsTakeOut',\n",
       "       'attributes.RestaurantsDelivery', 'attributes.Caters',\n",
       "       'attributes.WiFi', 'attributes.BusinessParking',\n",
       "       'attributes.OutdoorSeating', 'attributes.Alcohol', 'hours.Monday',\n",
       "       'hours.Tuesday', 'hours.Wednesday', 'hours.Thursday', 'hours.Friday',\n",
       "       'hours.Saturday', 'hours.Sunday', 'attributes.WheelchairAccessible',\n",
       "       'attributes.GoodForKids', 'attributes.CoatCheck',\n",
       "       'attributes.HappyHour', 'attributes.HasTV',\n",
       "       'attributes.RestaurantsReservations', 'attributes.DogsAllowed',\n",
       "       'attributes.RestaurantsAttire', 'attributes.Ambience',\n",
       "       'attributes.RestaurantsTableService',\n",
       "       'attributes.RestaurantsGoodForGroups', 'attributes.DriveThru',\n",
       "       'attributes.NoiseLevel', 'attributes.GoodForMeal',\n",
       "       'attributes.BusinessAcceptsBitcoin', 'attributes.Smoking',\n",
       "       'attributes.Music', 'attributes.GoodForDancing',\n",
       "       'attributes.BestNights', 'attributes.BYOB', 'attributes.Corkage',\n",
       "       'attributes.BYOBCorkage', 'attributes.AcceptsInsurance',\n",
       "       'attributes.RestaurantsCounterService', 'attributes.Open24Hours',\n",
       "       'attributes.AgesAllowed', 'attributes.DietaryRestrictions',\n",
       "       'attributes.HairSpecializesIn'],\n",
       "      dtype='object')"
      ]
     },
     "execution_count": 96,
     "metadata": {},
     "output_type": "execute_result"
    }
   ],
   "source": [
    "df_biz.columns"
   ]
  },
  {
   "cell_type": "code",
   "execution_count": 18,
   "id": "3e87a305",
   "metadata": {},
   "outputs": [
    {
     "data": {
      "text/plain": [
       "nan"
      ]
     },
     "execution_count": 18,
     "metadata": {},
     "output_type": "execute_result"
    }
   ],
   "source": [
    "df_biz.iloc[23]['attributes.GoodForMeal']"
   ]
  },
  {
   "cell_type": "code",
   "execution_count": 19,
   "id": "80af4416",
   "metadata": {},
   "outputs": [
    {
     "data": {
      "text/plain": [
       "'Hot Dogs, Restaurants'"
      ]
     },
     "execution_count": 19,
     "metadata": {},
     "output_type": "execute_result"
    }
   ],
   "source": [
    "df_biz.iloc[1000]['categories']"
   ]
  },
  {
   "cell_type": "code",
   "execution_count": 102,
   "id": "6c58816a",
   "metadata": {},
   "outputs": [
    {
     "data": {
      "text/plain": [
       "37826"
      ]
     },
     "execution_count": 102,
     "metadata": {},
     "output_type": "execute_result"
    }
   ],
   "source": [
    "aa=df_biz['categories'].unique()\n",
    "len(aa)"
   ]
  },
  {
   "cell_type": "code",
   "execution_count": 20,
   "id": "084b8ce5",
   "metadata": {},
   "outputs": [
    {
     "name": "stdout",
     "output_type": "stream",
     "text": [
      "99\n"
     ]
    }
   ],
   "source": [
    "food_list = [\n",
    "    \"Restaurants\",\"Food\",\"Bubble Tea\",\"Coffee & Tea\",\"Bakeries\",\"Brewpubs\",\"Breweries\",\"Burgers\",\"Fast Food\",\n",
    "    \"Sandwiches\",\"Ice Cream & Frozen Yogurt\",\"Pizza\",\"Chicken Wings\",\"Seafood\",\"Sushi Bars\",\"Steakhouses\",\"Delis\",\n",
    "    \"Italian\",\"Breakfast & Brunch\",\"Diners\",\"Specialty Food\",\"Health Markets\",\"Wine Bars\",\"Caterers\",\"Salad\",\"Soup\",\n",
    "    \"Asian Fusion\",\"Japanese\",\"Korean\",\"Chinese\",\"Mexican\",\"Thai\",\"Vietnamese\",\"American (Traditional)\",\n",
    "    \"American (New)\",\"Greek\",\"Barbeque\",\"Hot Dogs\",\"Comfort Food\",\"Noodles\",\"Wraps\",\"Acai Bowls\",\"Vegan\",\"Vegetarian\",\n",
    "    \"Cajun/Creole\",\"Mediterranean\",\"Caribbean\",\"Filipino\",\"French\",\"Ethiopian\",\"Latin American\",\"Persian/Iranian\",\n",
    "    \"Malaysian\",\"Burmese\",\"Trinidadian\",\"Lebanese\",\"Food Trucks\",\"Food Stands\",\"Grocery\",\"Convenience Stores\",\n",
    "    \"Farmers Market\",\"Imported Food\",\"Ethnic Food\",\"Organic Stores\",\"Candy Stores\",\"Chocolatiers & Shops\",\n",
    "    \"Juice Bars & Smoothies\",\"Beer\",\"Beer Bar\",\"Tea Rooms\",\"Patisserie/Cake Shop\",\"Do-It-Yourself Food\",\"Meat Shops\",\n",
    "    \"Fruits & Veggies\",\"Desserts\",\"Bagels\",\"Donuts\",\"Pretzels\",\"Shaved Ice\",\"Cupcakes\",\"Pasta Shops\",\"Coffee Roasteries\",\n",
    "    \"Falafel\",\"Tacos\",\"Cheesesteaks\",\"Gluten-Free\",\"Hawaiian\",\"Empanadas\",\"Sardinian\",\"Creperies\",\"Comfort Food\",\n",
    "    \"Fish & Chips\",\"Food Court\",\"Food Delivery Services\",\"Halal\",\"Cafes\",\"Turkish\",\"Moroccan\",\"Breakfast & Brunch\"\n",
    "]\n",
    "print(len(food_list))\n",
    "\n",
    "# # Filter dataset on the original unfiltered yelp dataset\n",
    "\n",
    "# df_biz_filtered = df_biz[df_biz['categories'].str.contains('|'.join(food_list), case=False, na=False)]\n",
    "# print(df_biz_filtered.head())\n",
    "# print(\"Original dataset:\", len(df_biz), \"rows\")\n",
    "# print(\"Filtered dataset:\", len(df_biz_filtered), \"rows\")\n",
    "\n",
    "# food_list_set = set(food_list)  # deduplicate\n",
    "# cats = (df_biz[\"categories\"]\n",
    "#         .fillna(\"\")\n",
    "#         .str.split(\",\")\n",
    "#         .apply(lambda xs: [c.strip() for c in xs]))\n",
    "\n",
    "# mask = cats.apply(lambda xs: bool(set(xs) & food_list_set))  # any overlap?\n",
    "# df_biz_filtered = df_biz[mask].copy()\n",
    "\n",
    "# # Convert 'categories' to categorical\n",
    "# df_biz['categories'] = pd.Categorical(df_biz['categories'])\n",
    "# df_biz_filtered = df_biz[df_biz['categories'].isin(food_list)]\n",
    "# print(\"Original dataset size:\", len(df_biz))\n",
    "# print(\"Filtered dataset size:\", len(df_biz_filtered))"
   ]
  },
  {
   "cell_type": "code",
   "execution_count": 21,
   "id": "24c7163d",
   "metadata": {},
   "outputs": [
    {
     "data": {
      "text/plain": [
       "'Restaurants, Seafood, Cajun/Creole'"
      ]
     },
     "execution_count": 21,
     "metadata": {},
     "output_type": "execute_result"
    }
   ],
   "source": [
    "df_biz.iloc[56]['categories']"
   ]
  },
  {
   "cell_type": "markdown",
   "id": "9f9c7610",
   "metadata": {},
   "source": [
    "### data cleaning to remove nan values"
   ]
  },
  {
   "cell_type": "code",
   "execution_count": 22,
   "id": "e4d8f7dd",
   "metadata": {},
   "outputs": [
    {
     "name": "stdout",
     "output_type": "stream",
     "text": [
      "size of the filtered biz dataset: (64395, 59)\n",
      "size of the cleaned biz dataset: (64395, 59)\n"
     ]
    }
   ],
   "source": [
    "df_biz_cleaned = df_biz.dropna(subset=['categories'])\n",
    "print(\"size of the filtered biz dataset:\", df_biz.shape)\n",
    "print(\"size of the cleaned biz dataset:\", df_biz_cleaned.shape)"
   ]
  },
  {
   "cell_type": "code",
   "execution_count": null,
   "id": "27aab610",
   "metadata": {},
   "outputs": [
    {
     "name": "stdout",
     "output_type": "stream",
     "text": [
      "(126, 58)\n",
      "['Restaurants', 'Food']\n",
      "Categories (83160, object): ['3D Printing, Local Services, Hobby Shops, Sho..., 'ATV Rentals/Tours, Hotels & Travel, Tours, Fi..., 'ATV Rentals/Tours, Motorcycle Repair, Automot..., 'Acai Bowls, American (New), Restaurants, Fast..., ..., 'Zoos, Botanical Gardens, Children's Museums, ..., 'Zoos, Event Planning & Services, Venues & Eve..., 'Zoos, Hotels & Travel, Event Planning & Servi..., 'Zoos, Tours, Arts & Entertainment, Hotels & T...]\n",
      "99\n",
      "2\n"
     ]
    }
   ],
   "source": [
    "df_biz_cleaned.iloc"
   ]
  },
  {
   "cell_type": "code",
   "execution_count": null,
   "id": "a28918ac",
   "metadata": {},
   "outputs": [],
   "source": [
    "unique_df = pd.DataFrame(unique_list, columns=['unique_categories'])\n",
    "\n",
    "# save to CSV\n",
    "unique_df.to_csv(\"Data/unique_categories.csv\", index=False)\n"
   ]
  },
  {
   "cell_type": "code",
   "execution_count": 106,
   "id": "c4495f48",
   "metadata": {},
   "outputs": [
    {
     "data": {
      "text/plain": [
       "(64395, 59)"
      ]
     },
     "execution_count": 106,
     "metadata": {},
     "output_type": "execute_result"
    }
   ],
   "source": [
    "df_biz.shape"
   ]
  },
  {
   "cell_type": "markdown",
   "id": "3655ded9",
   "metadata": {},
   "source": [
    "### eda"
   ]
  },
  {
   "cell_type": "code",
   "execution_count": 107,
   "id": "360de9ba",
   "metadata": {},
   "outputs": [
    {
     "name": "stdout",
     "output_type": "stream",
     "text": [
      "unique cities count: 997\n"
     ]
    },
    {
     "data": {
      "text/plain": [
       "array(['Santa Barbara', 'Philadelphia', 'Green Lane', 'Ashland City',\n",
       "       'Affton', 'Nashville', 'Tampa Bay', 'Indianapolis', 'Largo',\n",
       "       'Edmonton', 'Reno', 'White House', 'Ardmore', 'Exton', 'Alton',\n",
       "       'Tucson', 'Bala Cynwyd', 'Tampa', 'Harvey', 'West Chester',\n",
       "       'Hudson', 'Fernley', 'Williamstown', 'Glenolden', 'Wesley Chapel',\n",
       "       'Burlington', 'New Orleans', 'Camden', 'Saint Louis',\n",
       "       'Fairview Heights', 'Wilmington', 'Treasure Island', 'Boise',\n",
       "       'Tarpon Springs', 'Blue Bell', 'Brentwood', 'Woodbury',\n",
       "       'Brownsburg', 'Carmel', 'Greenwood', 'Sparks', 'Brookhaven',\n",
       "       'Madison', 'Ewing', 'Aston', 'Riverview', 'Saint Petersburg',\n",
       "       'Warrington', 'Wyncote', 'St. Louis', 'Lutz', 'Langhorne',\n",
       "       'King of Prussia', 'Clearwater', 'Voorhees', 'New Port Richey',\n",
       "       'Avon', 'Normandy', 'Franklin', 'Meridian', 'St Albert',\n",
       "       'Hermitage', 'Downingtown', 'Sherwood Park', 'Virginia City',\n",
       "       'Trenton', 'Bensalem', 'Marana', 'Smyrna', 'Chester', 'Brandon',\n",
       "       'Odessa', 'Horsham', 'Malvern', 'Maple Shade', 'Lansdale',\n",
       "       'Glenside', 'Ballwin', 'Cedarbrook', 'Goodlettsville', 'Narberth',\n",
       "       'Oldsmar', 'Bristol', 'Isla Vista', 'Glassboro', 'Haddonfield',\n",
       "       'Kenner', 'Norristown', 'Montgomeryville', 'Chesterfield',\n",
       "       'Spring Hill', 'Pennsville', 'Haddon Heights', 'Goleta',\n",
       "       'Hazelwood', 'View', 'Edwardsville', 'Noblesville', 'Metairie',\n",
       "       'New Hope', 'Cherry Hill', 'St Louis', 'Pinellas Park',\n",
       "       'St Petersburg', 'Mount Juliet', 'Fishers', 'Buckingham',\n",
       "       'Palmyra', 'Media', 'Saint Charles', 'Chalmette', 'High Ridge',\n",
       "       'Conshohocken', 'Hernando Beach', 'Florissant', 'Newtown',\n",
       "       'University City', 'Chadds Ford', 'Woodstown', 'Plant City',\n",
       "       'Warminster', 'Levittown', 'Ruskin', 'Town and Country', 'Lebanon',\n",
       "       'Skippack', 'Bryn Mawr', 'Springfield', 'Jennings', 'Pottstown',\n",
       "       'Carpinteria', 'Spring City', 'Southampton', 'Riverside',\n",
       "       'Lambertville', 'Ambler', 'Madeira Beach', 'Clementon', 'Godfrey',\n",
       "       'Florence Township', 'Mascoutah', 'Marlton', 'Yardley', 'Delran',\n",
       "       'Primos', 'Huntingdon Valley', 'North Wales', 'Collingswood',\n",
       "       'Creve Coeur', 'Collingdale', 'Fort Washington', 'Hendersonville',\n",
       "       'Wayne', 'Limerick', 'Cinnaminson', 'Turnersville', 'Holiday',\n",
       "       'Sicklerville', 'Doylestown', 'Port Richey', 'Westwego',\n",
       "       'Fountainville', 'Morrisville', 'Royersford', 'Bridgeport',\n",
       "       'Moorestown', 'Mount Laurel Township', 'Glen Carbon',\n",
       "       'Washington Crossing', 'Dunedin', 'Zionsville', 'St Charles',\n",
       "       'Drexel Hill', 'Verdi', 'Seminole', 'Folsom', 'Fenton', 'Eagle',\n",
       "       'Arnold', 'Gulfport', 'Collegeville', 'Kimberton', 'East Norriton',\n",
       "       'Zephyrhills', 'Harleysville', 'Jenkintown', 'Granite City',\n",
       "       'Dublin', 'Harahan', 'Flourtown', 'Old Hickory', 'Palm Harbor',\n",
       "       'Phoenixville', 'NASHVILLE', 'Temple Terr', 'Pitman',\n",
       "       'Mullica Hill', 'Newtown Square', 'Ferguson',\n",
       "       'Gloucester Township', 'Fairless Hills', 'Des Peres', 'Paoli',\n",
       "       'St. Petersburg', 'Trooper', 'Earth City', 'Mount Laurel',\n",
       "       'Woodlyn', 'Lumberton', 'Lahaska', 'Woolwich Twp', 'Marrero',\n",
       "       'Belleville', 'Bridgeton', 'Waterloo', 'Voorhees Township',\n",
       "       'Feasterville', 'Sun City Center', 'Willow Grove', 'Belle Chasse',\n",
       "       'Brooklawn', 'West Berlin', 'Darby', 'Land O Lakes', 'Gallatin',\n",
       "       'Rosemont', 'Broomall', 'La Vergne', 'Barrington',\n",
       "       'Deptford Township', 'Cahokia', 'Greenbrier', 'Sharon Hill',\n",
       "       'Sewell', 'Chalfont', 'Whiteland', 'Hatfield', 'Antioch',\n",
       "       'Swedesboro', 'Eddystone', 'East Greenville', 'St Pete Beach',\n",
       "       'Sellersville', 'Maplewood', 'Apollo Beach', 'Freeburg',\n",
       "       \"Land O' Lakes\", 'Ewing Township', 'Clearwater Beach',\n",
       "       'Glen Mills', 'Audubon ', 'Greater Northdale', 'Bellmawr',\n",
       "       'Woodbury Heights', 'Prospect Park', 'Willingboro Township',\n",
       "       'Abington', 'Morton', 'Gretna', 'King Of Prussia', 'Beaumont',\n",
       "       'Havertown', 'Dover', 'St. Pete Beach', 'Elmer', 'Swansea',\n",
       "       'Plainfield', 'Lansdowne', 'Seffner', 'Maryland Heights', 'TAMPA',\n",
       "       'Valrico', 'Glenmoore', 'Collinsville', 'Oaks', 'Quakertown',\n",
       "       'Schwenksville', 'Speedway', 'Mount Ephraim', 'Atco', 'Blackwood',\n",
       "       'Ridley Park', 'Medford', 'Newark', 'Penns Grove', 'Gilbertsville',\n",
       "       'Mt. Juliet', 'Land o lakes', 'Imperial', 'Essington', 'Arabi',\n",
       "       'Eagleville', 'Mendenhall', 'Maryville', 'Dresher', 'New Castle',\n",
       "       'Saint Pete Beach', 'Claymont', 'Columbia', 'ST. Louis',\n",
       "       'Upper Darby', 'Shiloh', 'Gibbsboro', 'Douglassville',\n",
       "       'Bordentown', 'Bellevue', 'Kennett Square', 'Secane', 'Terrytown',\n",
       "       'St.Ann', 'Elverson', 'St. Albert', 'Greenville', 'Westville',\n",
       "       'Hatboro', \"O'Fallon\", 'Riverton', 'Willingboro', 'Troy',\n",
       "       'Trinity', 'Spring House', 'Merchantville', 'Manchester',\n",
       "       'O Fallon', 'Spanish Springs', 'East Saint Louis', 'Glendora',\n",
       "       'Wimauma', 'Lindenwold', 'Mooresville', 'Mt Juliet',\n",
       "       'McCordsville', 'Trappe', 'Green Valley', 'Shamong', 'Kirkwood',\n",
       "       'Jefferson', 'Mt. Laurel', 'Maryville ', 'Richboro', 'Hockessin',\n",
       "       'Kulpsville', 'Wood River', 'Beech Grove', 'Petersburg',\n",
       "       'Hamilton Township', 'Plymouth Meeting', 'Berlin', 'Paulsboro',\n",
       "       'Clayton', 'Millstadt', 'Holland', 'Sahuarita', 'Westmont',\n",
       "       'Valley Park', 'Jamison', 'Montecito', 'Overland', 'Yeadon',\n",
       "       'Saint Ann', 'Dupo', 'Garden City', 'Plumsteadville',\n",
       "       'Temple Terrace', 'Mont Clare', 'Audubon', 'Deptford',\n",
       "       'Webster Groves', 'Jobstown', 'Flanders',\n",
       "       'Nashville-Davidson metropolitan government (balance)',\n",
       "       'Wynnewood', 'Nolensville', 'NEW PORT RICHEY', 'Boyertown',\n",
       "       'Perkiomenville', 'Safety Harbor', 'Tabernacle', 'Vineland',\n",
       "       'Lafayette Hill', 'Caseyville', 'Thonotosassa', 'Lester', 'Vail',\n",
       "       'Florence', 'Hillsborough County', 'Mansfield',\n",
       "       'South Cinnaminson', 'Mt Laurel', 'Elkins Park', 'Maple Glen',\n",
       "       'Oro Valley', 'Feasterville-Trevose', 'Edmundson',\n",
       "       'Belleair Bluffs', 'North Redington Beach', 'Belmont Hills',\n",
       "       'Oaklyn', 'Mount Holly', 'Southport', 'St.Rose', 'Runnemede',\n",
       "       'Pennsauken', 'Glenn Mills', 'Pleasant View', 'Shrewsbury',\n",
       "       'Souderton', 'Newfield', 'Hainesport', 'Somerdale', 'Berwyn',\n",
       "       'South Pasadena', 'Chester Springs', 'Perkasie', 'Folcroft',\n",
       "       'Gloucester City', 'West Conshohocken', 'Devon', 'Wyndmoor',\n",
       "       'Tuscon', 'Berlin Township', 'West Deptford', 'Monroe Township',\n",
       "       'Pennsburg', 'Indian Rocks Beach', 'Boone', 'Mercerville',\n",
       "       'Rockledge', 'Linwood', 'Stratford', 'Belle Chase', 'Twin Oaks',\n",
       "       'New Britain', 'Frazer', 'NW Edmonton', 'Maple Shade Township',\n",
       "       'Villanova', 'Sun City', 'Radnor', \"O'fallon\", 'Trevose',\n",
       "       'Avondale', 'Croydon', 'Coatesville', 'Warson Woods', 'Oreland',\n",
       "       'Salem', 'Swarthmore', 'Thorndale', 'Lavergne', 'St. Charles',\n",
       "       'Pittsgrove Township', 'Logan Township', 'Talleyville', 'Roebling',\n",
       "       'Lawrence', 'Westtown', 'Clifton Heights', 'St Louis Downtown',\n",
       "       'Lemay', 'PHILA', 'Boothwyn', 'Lithia', 'Whitestown', 'Westchase',\n",
       "       'Ladue', 'Westampton Township', 'Westampton', 'Saint Albert',\n",
       "       'Telford', 'Frontenac', 'Colmar', 'Lula Lula', 'Sunset Hills',\n",
       "       'Jeffersonville', 'Edgewater Park', 'Columbus',\n",
       "       'Holland Southampton', 'Pike Creek', 'Mickleton', 'Pontoon Beach',\n",
       "       'Delanco', 'Marcus Hook', 'Feasterville Trevose', 'Pipersville',\n",
       "       'Bywater', 'Thorofare', 'New Palestine', 'Haddon Township',\n",
       "       'Carrollwood', 'Trainer', 'Rock Hill', 'Furlong', 'Twn N Cntry',\n",
       "       'Hamilton', 'Crestwood', 'Kuna', 'Town And Country',\n",
       "       'Upper Southampton Township', 'NEW ORLEANS', 'West Edmonton',\n",
       "       'East Alton', 'Concordville', 'RENO', 'Red Hill', 'National Park',\n",
       "       'Unionville', 'TUCSON', 'Clarksboro', 'Tinicum',\n",
       "       'Southeast Edmonton', 'Oakville', 'St Ann', 'Gibsonton',\n",
       "       'Upper Pittsgrove', 'Springhill', 'Kenneth City',\n",
       "       'Harrison Township', 'Abington Township', 'Magnolia', 'W.Chester',\n",
       "       'Pinecrest West Park', 'Toughkenamon', 'W Cherry Hill', 'Aldan',\n",
       "       'Burlington Township', 'Lawnside', 'Southwest Philadelphia',\n",
       "       'Pemberton', 'Tierra Verde', 'Franklinville', 'lawrence',\n",
       "       'Clermont', 'Laurel Springs', 'Indianapolis ', 'Haverford',\n",
       "       'Pennsauken Township', 'wilmington', 'St. Davids', 'Birchrunville',\n",
       "       'Joelton', 'Mount Lemmon', 'Charlack', 'Breckenridge Hills',\n",
       "       'Boise City', 'Lawrence Township', 'Ozona', 'Evesham Township',\n",
       "       'Pittsgrove', 'Saintt Petersburg', 'Bellville', 'Rosewood Heights',\n",
       "       'East Nashville', 'Roslyn', 'Garnet Valley', 'Marlborough',\n",
       "       'Worcester', 'Upper Chichester', 'Berry Hill', 'Ashland',\n",
       "       'Bethalto', 'River Ridge', 'Valencia West', 'Mantua', 'Holicong',\n",
       "       'Newport', 'Saint John', 'Pine HIll', 'Fairview Hts.',\n",
       "       'Gwynedd Valley', 'Philadelphia PA', 'EdMonton', 'Bryn Athyn',\n",
       "       'Palmetto', 'Violet', 'Crum Lynne', 'Upper Gwynedd', 'Pilesgrove',\n",
       "       'West Deptford Townsh', 'Inglewood', 'Parkside', 'Yardley Boro',\n",
       "       'Meraux', 'Malaga', 'Southwest Tampa', 'Cedar Brook',\n",
       "       'Casa Adobes', 'WEST CHESTER', 'Titusville', 'Ivyland',\n",
       "       'Christiana', 'Melrose Park', 'boise', 'Richmond Heights',\n",
       "       'Carneys Point', 'Sun Valley', 'Hulmeville', 'Redingtn Shor',\n",
       "       'S Pasadena', 'Beverly', 'Southampton Township', 'Oaklandon',\n",
       "       'Sappington', 'Town n Country', 'Philadephia',\n",
       "       'Wyndlake Condominium', 'Holmes', \"Land O'Lakes\", 'Norwood',\n",
       "       'Merion Station', 'Evesham', 'Mantua Township', 'LOWER PROVIDENCE',\n",
       "       'Mc Cordsville', 'Corona de Tucson', 'San Antonio', 'Silverdale',\n",
       "       'Waggaman', 'Catalina', 'Scott Air Force Base', 'NORRISTOWN',\n",
       "       'Bradenton', 'Woodson Terrace', 'Meridian ', 'St Pete',\n",
       "       'Franconia', 'Bargersville', 'Stowe', 'Mt Laurel Twp, NJ',\n",
       "       'Gibbstown', 'Gladwyne', 'Tren', 'Skippack Village',\n",
       "       'West Mount Holly', 'Indian Shores', 'Penndel', 'CLEARWATER BEACH',\n",
       "       'Camby', 'Pennsville Township', 'Eastampton', 'Hilltop',\n",
       "       'Beech Grove,', 'INDIANAPOLIS', 'Gradyville', 'erdenheim',\n",
       "       'Thonosassa', 'Elk Township', 'Summerland', 'Berkeley',\n",
       "       'Cheltenham', 'Danville', 'Chesterbrook', 'Balm', 'PHILADELPHIA',\n",
       "       'Bethel', 'Olivette', 'Eaux Claires', 'East St. Louis',\n",
       "       'Glenoldan', 'Wesley chapel', 'Zieglerville', 'Haddon Twp',\n",
       "       'Reno Nevada', 'reno', 'Hammonton', 'Winslow Township',\n",
       "       'Concord Township', 'Blvd', 'Luling', 'North Redington Bch',\n",
       "       'Bucks', 'Had Twp', 'Westmont - Haddon Towsship',\n",
       "       'Wilmington Manor', 'East Lansdowne', 'Yorklyn', 'clearwater',\n",
       "       'Cheltenham Township', 'Lionville', 'Lansdale ', 'Smithton',\n",
       "       'RIVERVIEW', 'Wrightstown', 'Carversville', 'CLEARWATER',\n",
       "       'Green Park', 'Cornwells Heights', 'VC Highlands', 'Saint Rose',\n",
       "       'indianopolis', 'LARGO', 'Pine Hill', 'St.Petersburg', 'St.Louis',\n",
       "       'ST LOUIS', 'Belleair Blf', 'Bristol Twp', 'Kenneth',\n",
       "       'Trolley Square', 'LANSDALE', 'Kalispell', 'Manayunk', 'Glendale',\n",
       "       'Tarpon springs', 'Pineville', 'St. Rose', 'Kingston Springs',\n",
       "       'Milmont Park', 'Greenfield', 'Bethel Township', 'Saint Bernard',\n",
       "       'Cherry Hil', 'Vincentown', 'Belle Meade', 'West Point', 'Elsmere',\n",
       "       'Cold Springs', 'Washington Twp', 'Castleton', 'MADISON',\n",
       "       'Riveridge', 'Bridge City', 'Chesilhurst', 'Redington Shores',\n",
       "       'Rural Hill', 'Washington Township', 'Fairview Hts', 'tucson',\n",
       "       'St. Ann', 'Wenonah', 'Quinton', 'Eastampton Township',\n",
       "       'Woolwich Twp.', 'New Whiteland', 'Downtown',\n",
       "       'Saint Petersburg Beach', 'Oldmans Township', 'Wanamaker',\n",
       "       'Mt. Holly', 'Kimmswick', 'Saint Peters', 'Lawrenceville',\n",
       "       'Bayonet Point', 'Freehold', 'Gentilly', 'Masaryktown',\n",
       "       \"Town 'n' Country\", 'Hamiltion', 'Lutz fl', 'Gwynedd', 'Fortville',\n",
       "       'Fairview', 'Gardenville', 'Safety  Harbor', 'Pleasant Township',\n",
       "       'Thornton', 'FOLSOM', 'Woolwich Township', 'Scott AFB',\n",
       "       'Gulph Mills', 'SPRINGHILL', 'Pasadena', 'ST. PETE BEACH',\n",
       "       'Mehlville', 'Hancock', 'Santa Clara', 'Mt.Laurel', 'Dade City',\n",
       "       'Mt.Juliet', 'sewell', 'Wallingford', 'Virtual', 'Sassamansville',\n",
       "       'Line Lexington', 'Fox Street', 'AVON', 'Cumberland',\n",
       "       'Fairview Village', 'Sparks ', 'Conshohoeken', 'Medford Lakes',\n",
       "       'Barnhart', 'South Tucson', 'Linfield', 'Peerless Park', 'HUdson',\n",
       "       'Bradenton Beach', 'Phila', 'Erial', 'Roxana', 'Drexel Heights',\n",
       "       'Eddington', 'Fairmont City', 'E. Norristown', 'Mount Royal',\n",
       "       'Black Jack', 'West Philadelphia', 'Picture Rocks', 'Marshallton',\n",
       "       'Deptford Twp', 'Solebury', 'Waterford Works', 'Center Square',\n",
       "       \"O' Fallon\", 'Washoe Valley', 'Bucktown', 'Landsdale', 'wimauma',\n",
       "       'Erdenheim', 'West Chester PA', 'Monroeville', 'Chalemette',\n",
       "       'Wilmington ', 'Lima', 'Mango', 'Royersford ', 'East Edmonton',\n",
       "       'Tylersport', 'Roxborough', 'Delran Twp', 'West Trenton',\n",
       "       'Algiers', 'Scott Afb', 'Martinsville', 'Glenmore', 'Upland',\n",
       "       'Largo (Walsingham)', 'Upper Southampton', 'Sumneytown',\n",
       "       'Pennsylvania', 'St. Peters', 'Cedars', 'Land o Lakes',\n",
       "       'Boulevard', 'Moorestown-Lenola', 'Mccordsville', \"Carney's Point\",\n",
       "       'Greater Carrollwood', 'Enoch', 'Citrus Park', 'LITHIA',\n",
       "       'POTTSTOWN', 'Edgemont', 'LOWER MERION', 'Pinellas park',\n",
       "       'Town & Country', 'Whites Creek', 'BRANDON', 'Elmwood',\n",
       "       'Warrington Township', 'TRENTON', 'Reno ', 'Cottage Hills',\n",
       "       'Pennington', 'East St Louis', 'Metarie', 'Afton',\n",
       "       'South Harrison Township', 'Andalusia', 'West Bradford Township',\n",
       "       'MEDIA', 'St.Pete Beach', 'Pinellas', 'Stead', 'Hi-Nella',\n",
       "       'South Tampa', 'Fieldsboro', 'Festerville', 'Liverpool',\n",
       "       'DONELSON', 'Goodletsville', 'Redingtn Shores', 'Sauget',\n",
       "       'Metairie ', 'Casas Adobes', 'Southhampton', 'Nampa',\n",
       "       'North Coventry Township', 'Sherwood', 'Lederach',\n",
       "       'Corona De Tucson', 'Lower Merion', 'Washington Park',\n",
       "       'Bensalem Township', 'Pine Forge', 'Newportville', 'NORTH WALES',\n",
       "       'Lower Southampton Township', 'N Redngtn Bch', 'East Falls',\n",
       "       'Lenni', 'Haddon township', 'Ridley', 'Bensalem. Pa',\n",
       "       'Riverview Fl', 'Newtown Sqaure', 'Bellefontaine', 'Westhampton',\n",
       "       'Palm harbor', 'Chichester', 'Bellefontaine Neighbors',\n",
       "       'Upper Pottsgrove', 'Indianapolis city (balance)', 'W. Berlin',\n",
       "       'Town and Country ', 'Fairland', 'Winchester', 'Dellwood',\n",
       "       'Montchanin', 'Wesley Chapel ', 'Ewing Twp', 'Saint Louis,',\n",
       "       'Indiana', 'St Petersurg', 'BOISE', 'Gloucester', 'Edgmont',\n",
       "       'Blackwood ', 'West Norriton ', 'Plainfiled', 'Ybor City',\n",
       "       'CLIFTON HEIGHTS', 'DELRAN', 'PINELLAS PARK', 'Telford ',\n",
       "       'LANGHORNE', 'St.Charles', 'TRINITY', 'Philly',\n",
       "       'Feasterville-trevose', 'philadelphia', 'Alloway',\n",
       "       'Cherry Hill Mall', 'Tierre Verde', 'Stanton', 'ST. PETERSBURG',\n",
       "       'Sanatoga', 'Foster Pond', 'Wycombe', 'Santa  Barbara',\n",
       "       'Swedeland', 'Truckee', 'West Collingswood Heights', 'Tampa,Fl',\n",
       "       'Nashville ', 'Tampa Palms', 'N.Wales', 'Pegram', 'Montgomery',\n",
       "       'Sullivan', 'Blooming Glen', 'St Louis County', 'goodlettsville',\n",
       "       'Bel Ridge', 'Hilltown', 'Richwood', 'London Grove', 'Terra Ceia',\n",
       "       'INpolis', 'Clarksville', 'Delran Township', 'spring city',\n",
       "       \"Land O'lakes\", 'Tampa,', 'Cane Ridge', 'St. Leo', 'Hurffville',\n",
       "       'Kirklyn', 'Redington Shore', 'Philadelphia ',\n",
       "       'Clearwater/ Countryside', 'East Boise', 'Caln', 'Fallsington',\n",
       "       'TEMPLE TERR', 'RADNOR', 'St. Louis County', 'Pass-a-Grille Beach',\n",
       "       'Hollywood', 'Hernando Bch', 'Haddon', 'WILLOW GROVE',\n",
       "       'Middletown', 'Saint Leo', 'Mt Holly', \"Town 'N' Country\",\n",
       "       'Newton', 'S.Pasadena', 'Churchville', 'Monchanin', 'St.  Charles',\n",
       "       'Charlotte', 'Bellefonte', 'Woodbury Hts.', 'Mount Holly,',\n",
       "       'Tampa Florida', 'UPPER MORELAND'], dtype=object)"
      ]
     },
     "execution_count": 107,
     "metadata": {},
     "output_type": "execute_result"
    }
   ],
   "source": [
    "print(\"unique cities count:\", len(df_biz['city'].unique()))\n",
    "df_biz['city'].unique()"
   ]
  },
  {
   "cell_type": "code",
   "execution_count": 118,
   "id": "6c8c514e",
   "metadata": {},
   "outputs": [
    {
     "name": "stdout",
     "output_type": "stream",
     "text": [
      "count    64395.000000\n",
      "mean        76.744530\n",
      "std        173.626809\n",
      "min          5.000000\n",
      "25%         12.000000\n",
      "50%         28.000000\n",
      "75%         75.000000\n",
      "max       7568.000000\n",
      "Name: review_count, dtype: float64\n"
     ]
    },
    {
     "data": {
      "text/plain": [
       "<Axes: >"
      ]
     },
     "execution_count": 118,
     "metadata": {},
     "output_type": "execute_result"
    },
    {
     "data": {
      "image/png": "[encoded data removed]",
      "text/plain": [
       "<Figure size 640x480 with 1 Axes>"
      ]
     },
     "metadata": {},
     "output_type": "display_data"
    }
   ],
   "source": [
    "print(df_biz['review_count'].describe())\n",
    "df_biz['review_count'].hist(bins=80)"
   ]
  },
  {
   "cell_type": "markdown",
   "id": "7a6c65a5",
   "metadata": {},
   "source": [
    "#### first focus on the non-binary features \n",
    "\n",
    "'business_id', 'name', 'address', 'city', 'state', 'postal_code',\n",
    "        'latitude', 'longitude', 'stars', 'review_count', 'is_open',\n",
    "        'categories', 'category_type', \n"
   ]
  },
  {
   "cell_type": "code",
   "execution_count": 24,
   "id": "65df723d",
   "metadata": {},
   "outputs": [
    {
     "data": {
      "text/plain": [
       "city\n",
       "Philadelphia     715497\n",
       "New Orleans      494038\n",
       "Nashville        339175\n",
       "Tampa            317704\n",
       "Indianapolis     264966\n",
       "Tucson           259799\n",
       "Reno             210023\n",
       "Saint Louis      186965\n",
       "Santa Barbara    176712\n",
       "Boise             71186\n",
       "Name: review_count, dtype: int64"
      ]
     },
     "execution_count": 24,
     "metadata": {},
     "output_type": "execute_result"
    }
   ],
   "source": [
    "# getting top 10 cities by review_count columns\n",
    "df_biz_city=df_biz.groupby('city')['review_count'].sum().sort_values(ascending=False).head(10)\n",
    "df_biz_city"
   ]
  },
  {
   "cell_type": "code",
   "execution_count": 30,
   "id": "478a74b6",
   "metadata": {},
   "outputs": [
    {
     "data": {
      "image/png": "[encoded data removed]",
      "text/plain": [
       "<Figure size 1200x600 with 1 Axes>"
      ]
     },
     "metadata": {},
     "output_type": "display_data"
    }
   ],
   "source": [
    "plt.figure(figsize=(12, 6))\n",
    "df_biz_city_plt = pd.DataFrame(df_biz_city).reset_index()\n",
    "# sns.scatterplot(x=\"city\",y = 'review_count',data=df_biz_city_plt)\n",
    "sns.barplot(x=\"city\",y = 'review_count',data=df_biz_city_plt)\n",
    "ax = plt.gca() # get current axes\n",
    "ax.bar_label(ax.containers[0], label_type='edge', padding=2)\n",
    "plt.title('Reviews count vs city')\n",
    "plt.xlabel('City')\n",
    "plt.ylabel('Reviews count')\n",
    "plt.show()"
   ]
  },
  {
   "cell_type": "code",
   "execution_count": 35,
   "id": "1acac0a8",
   "metadata": {},
   "outputs": [
    {
     "data": {
      "image/png": "[encoded data removed]",
      "text/plain": [
       "<Figure size 10000x400 with 1 Axes>"
      ]
     },
     "metadata": {},
     "output_type": "display_data"
    }
   ],
   "source": [
    "# getting top 10 cities by review count\n",
    "plt.figure(figsize=(100, 4))\n",
    "df_biz['city'].value_counts().head(10)\n",
    "\n",
    "sns.scatterplot(x=\"city\",y = 'review_count',data=df_biz)\n",
    "plt.title('Reviews count vs city')\n",
    "plt.xlabel('City')\n",
    "plt.ylabel('Reviews count')\n",
    "plt.show()"
   ]
  },
  {
   "cell_type": "code",
   "execution_count": 36,
   "id": "874d8802",
   "metadata": {},
   "outputs": [
    {
     "data": {
      "text/plain": [
       "Index(['business_id', 'name', 'address', 'city', 'state', 'postal_code',\n",
       "       'latitude', 'longitude', 'stars', 'review_count', 'is_open',\n",
       "       'categories', 'category_type', 'attributes.ByAppointmentOnly',\n",
       "       'attributes.BusinessAcceptsCreditCards', 'attributes.BikeParking',\n",
       "       'attributes.RestaurantsPriceRange2', 'attributes.RestaurantsTakeOut',\n",
       "       'attributes.RestaurantsDelivery', 'attributes.Caters',\n",
       "       'attributes.WiFi', 'attributes.BusinessParking',\n",
       "       'attributes.OutdoorSeating', 'attributes.Alcohol', 'hours.Monday',\n",
       "       'hours.Tuesday', 'hours.Wednesday', 'hours.Thursday', 'hours.Friday',\n",
       "       'hours.Saturday', 'hours.Sunday', 'attributes.WheelchairAccessible',\n",
       "       'attributes.GoodForKids', 'attributes.CoatCheck',\n",
       "       'attributes.HappyHour', 'attributes.HasTV',\n",
       "       'attributes.RestaurantsReservations', 'attributes.DogsAllowed',\n",
       "       'attributes.RestaurantsAttire', 'attributes.Ambience',\n",
       "       'attributes.RestaurantsTableService',\n",
       "       'attributes.RestaurantsGoodForGroups', 'attributes.DriveThru',\n",
       "       'attributes.NoiseLevel', 'attributes.GoodForMeal',\n",
       "       'attributes.BusinessAcceptsBitcoin', 'attributes.Smoking',\n",
       "       'attributes.Music', 'attributes.GoodForDancing',\n",
       "       'attributes.BestNights', 'attributes.BYOB', 'attributes.Corkage',\n",
       "       'attributes.BYOBCorkage', 'attributes.AcceptsInsurance',\n",
       "       'attributes.RestaurantsCounterService', 'attributes.Open24Hours',\n",
       "       'attributes.AgesAllowed', 'attributes.DietaryRestrictions',\n",
       "       'attributes.HairSpecializesIn'],\n",
       "      dtype='object')"
      ]
     },
     "execution_count": 36,
     "metadata": {},
     "output_type": "execute_result"
    }
   ],
   "source": [
    "df_biz_cleaned.columns"
   ]
  },
  {
   "cell_type": "code",
   "execution_count": 38,
   "id": "2438c9d3",
   "metadata": {},
   "outputs": [
    {
     "data": {
      "text/plain": [
       "name\n",
       "Acme Oyster House                     7568\n",
       "Oceana Grill                          7400\n",
       "Hattie B’s Hot Chicken - Nashville    6093\n",
       "Reading Terminal Market               5721\n",
       "Ruby Slipper - New Orleans            5193\n",
       "Mother's Restaurant                   5185\n",
       "Royal House                           5070\n",
       "Commander's Palace                    4876\n",
       "Luke                                  4554\n",
       "Cochon                                4421\n",
       "Name: review_count, dtype: int64"
      ]
     },
     "execution_count": 38,
     "metadata": {},
     "output_type": "execute_result"
    }
   ],
   "source": [
    "top_10_businesses = (df_biz_cleaned.groupby('name')['review_count']\n",
    "                     .max() # Or .sum()/.mean() depending on your data structure\n",
    "                     .nlargest(10)\n",
    "                     .sort_values(ascending=False) # Optional: sort for the plot\n",
    "                    )\n",
    "top_10_businesses"
   ]
  },
  {
   "cell_type": "code",
   "execution_count": 54,
   "id": "7a42321a",
   "metadata": {},
   "outputs": [
    {
     "data": {
      "text/plain": [
       "name\n",
       "Cochon                                4421\n",
       "Luke                                  4554\n",
       "Commander's Palace                    4876\n",
       "Royal House                           5070\n",
       "Mother's Restaurant                   5185\n",
       "Ruby Slipper - New Orleans            5193\n",
       "Reading Terminal Market               5721\n",
       "Hattie B’s Hot Chicken - Nashville    6093\n",
       "Oceana Grill                          7400\n",
       "Acme Oyster House                     7568\n",
       "Name: review_count, dtype: int64"
      ]
     },
     "execution_count": 54,
     "metadata": {},
     "output_type": "execute_result"
    }
   ],
   "source": [
    "top_10_businesses_sorted"
   ]
  },
  {
   "cell_type": "code",
   "execution_count": 59,
   "id": "b62ebd5b",
   "metadata": {},
   "outputs": [
    {
     "data": {
      "image/png": "[encoded data removed]",
      "text/plain": [
       "<Figure size 1200x500 with 1 Axes>"
      ]
     },
     "metadata": {},
     "output_type": "display_data"
    }
   ],
   "source": [
    "## top 10 businesses by review count (horizontal plot)\n",
    "fig, ax = plt.subplots(figsize=(12, 5))\n",
    "top_10_businesses_sorted = top_10_businesses.sort_values(ascending=True)\n",
    "bars = ax.barh(top_10_businesses_sorted.index, top_10_businesses_sorted.values)\n",
    "ax.set_title('Top 10 Businesses by Review Count')\n",
    "ax.set_xlabel('Total Review Count')\n",
    "\n",
    "# labelling\n",
    "for bar in bars:\n",
    "    width = bar.get_width()\n",
    "    ax.text(width + 3, bar.get_y() + bar.get_height()/2, f'{width}', \n",
    "            va='center', fontweight='bold')\n",
    "\n",
    "plt.tight_layout()\n",
    "plt.show()"
   ]
  },
  {
   "cell_type": "code",
   "execution_count": null,
   "id": "1740378f",
   "metadata": {},
   "outputs": [
    {
     "data": {
      "image/png": "[encoded data removed]",
      "text/plain": [
       "<Figure size 1200x800 with 1 Axes>"
      ]
     },
     "metadata": {},
     "output_type": "display_data"
    }
   ],
   "source": [
    "## top 10 businesses by review count (vertical plot)\n",
    "fig, ax = plt.subplots(figsize=(12, 8)) \n",
    "bars = ax.bar(top_10_businesses.index, top_10_businesses.values)\n",
    "ax.set_title('Top 10 Businesses by Review Count')\n",
    "ax.set_ylabel('Total Review Count')\n",
    "ax.set_xlabel('Business Name')\n",
    "\n",
    "# rotate long business names and add value labels on top\n",
    "plt.xticks(rotation=45, ha='right')\n",
    "for bar in bars:\n",
    "    height = bar.get_height()\n",
    "    ax.annotate(f'{height}',\n",
    "                xy=(bar.get_x() + bar.get_width() / 2, height),\n",
    "                xytext=(0, 3), # 3 points vertical offset\n",
    "                textcoords=\"offset points\",\n",
    "                ha='center', va='bottom',\n",
    "                fontweight='bold')\n",
    "\n",
    "plt.tight_layout() \n",
    "plt.show()"
   ]
  },
  {
   "cell_type": "code",
   "execution_count": 33,
   "id": "86fcbdf0",
   "metadata": {},
   "outputs": [
    {
     "data": {
      "text/plain": [
       "'Food'"
      ]
     },
     "execution_count": 33,
     "metadata": {},
     "output_type": "execute_result"
    }
   ],
   "source": [
    "df_biz_cleaned.iloc[1000]['category_type']"
   ]
  },
  {
   "cell_type": "code",
   "execution_count": null,
   "id": "1d6ac47d",
   "metadata": {},
   "outputs": [],
   "source": []
  },
  {
   "cell_type": "code",
   "execution_count": null,
   "id": "4ed5ce74",
   "metadata": {},
   "outputs": [],
   "source": []
  },
  {
   "cell_type": "markdown",
   "id": "a64355a5",
   "metadata": {},
   "source": [
    "## Users dataset"
   ]
  },
  {
   "cell_type": "code",
   "execution_count": 4,
   "id": "c19fe96d",
   "metadata": {},
   "outputs": [
    {
     "name": "stdout",
     "output_type": "stream",
     "text": [
      "users dataset size: (1987897, 22)\n"
     ]
    },
    {
     "data": {
      "text/html": [
       "<div>\n",
       "<style scoped>\n",
       "    .dataframe tbody tr th:only-of-type {\n",
       "        vertical-align: middle;\n",
       "    }\n",
       "\n",
       "    .dataframe tbody tr th {\n",
       "        vertical-align: top;\n",
       "    }\n",
       "\n",
       "    .dataframe thead th {\n",
       "        text-align: right;\n",
       "    }\n",
       "</style>\n",
       "<table border=\"1\" class=\"dataframe\">\n",
       "  <thead>\n",
       "    <tr style=\"text-align: right;\">\n",
       "      <th></th>\n",
       "      <th>user_id</th>\n",
       "      <th>name</th>\n",
       "      <th>review_count</th>\n",
       "      <th>yelping_since</th>\n",
       "      <th>useful</th>\n",
       "      <th>funny</th>\n",
       "      <th>cool</th>\n",
       "      <th>elite</th>\n",
       "      <th>friends</th>\n",
       "      <th>fans</th>\n",
       "      <th>...</th>\n",
       "      <th>compliment_more</th>\n",
       "      <th>compliment_profile</th>\n",
       "      <th>compliment_cute</th>\n",
       "      <th>compliment_list</th>\n",
       "      <th>compliment_note</th>\n",
       "      <th>compliment_plain</th>\n",
       "      <th>compliment_cool</th>\n",
       "      <th>compliment_funny</th>\n",
       "      <th>compliment_writer</th>\n",
       "      <th>compliment_photos</th>\n",
       "    </tr>\n",
       "  </thead>\n",
       "  <tbody>\n",
       "    <tr>\n",
       "      <th>0</th>\n",
       "      <td>qVc8ODYU5SZjKXVBgXdI7w</td>\n",
       "      <td>Walker</td>\n",
       "      <td>585</td>\n",
       "      <td>2007-01-25 16:47:26</td>\n",
       "      <td>7217</td>\n",
       "      <td>1259</td>\n",
       "      <td>5994</td>\n",
       "      <td>2007</td>\n",
       "      <td>NSCy54eWehBJyZdG2iE84w, pe42u7DcCH2QmI81NX-8qA...</td>\n",
       "      <td>267</td>\n",
       "      <td>...</td>\n",
       "      <td>65</td>\n",
       "      <td>55</td>\n",
       "      <td>56</td>\n",
       "      <td>18</td>\n",
       "      <td>232</td>\n",
       "      <td>844</td>\n",
       "      <td>467</td>\n",
       "      <td>467</td>\n",
       "      <td>239</td>\n",
       "      <td>180</td>\n",
       "    </tr>\n",
       "    <tr>\n",
       "      <th>1</th>\n",
       "      <td>j14WgRoU_-2ZE1aw1dXrJg</td>\n",
       "      <td>Daniel</td>\n",
       "      <td>4333</td>\n",
       "      <td>2009-01-25 04:35:42</td>\n",
       "      <td>43091</td>\n",
       "      <td>13066</td>\n",
       "      <td>27281</td>\n",
       "      <td>2009,2010,2011,2012,2013,2014,2015,2016,2017,2...</td>\n",
       "      <td>ueRPE0CX75ePGMqOFVj6IQ, 52oH4DrRvzzl8wh5UXyU0A...</td>\n",
       "      <td>3138</td>\n",
       "      <td>...</td>\n",
       "      <td>264</td>\n",
       "      <td>184</td>\n",
       "      <td>157</td>\n",
       "      <td>251</td>\n",
       "      <td>1847</td>\n",
       "      <td>7054</td>\n",
       "      <td>3131</td>\n",
       "      <td>3131</td>\n",
       "      <td>1521</td>\n",
       "      <td>1946</td>\n",
       "    </tr>\n",
       "    <tr>\n",
       "      <th>2</th>\n",
       "      <td>2WnXYQFK0hXEoTxPtV2zvg</td>\n",
       "      <td>Steph</td>\n",
       "      <td>665</td>\n",
       "      <td>2008-07-25 10:41:00</td>\n",
       "      <td>2086</td>\n",
       "      <td>1010</td>\n",
       "      <td>1003</td>\n",
       "      <td>2009,2010,2011,2012,2013</td>\n",
       "      <td>LuO3Bn4f3rlhyHIaNfTlnA, j9B4XdHUhDfTKVecyWQgyA...</td>\n",
       "      <td>52</td>\n",
       "      <td>...</td>\n",
       "      <td>13</td>\n",
       "      <td>10</td>\n",
       "      <td>17</td>\n",
       "      <td>3</td>\n",
       "      <td>66</td>\n",
       "      <td>96</td>\n",
       "      <td>119</td>\n",
       "      <td>119</td>\n",
       "      <td>35</td>\n",
       "      <td>18</td>\n",
       "    </tr>\n",
       "    <tr>\n",
       "      <th>3</th>\n",
       "      <td>SZDeASXq7o05mMNLshsdIA</td>\n",
       "      <td>Gwen</td>\n",
       "      <td>224</td>\n",
       "      <td>2005-11-29 04:38:33</td>\n",
       "      <td>512</td>\n",
       "      <td>330</td>\n",
       "      <td>299</td>\n",
       "      <td>2009,2010,2011</td>\n",
       "      <td>enx1vVPnfdNUdPho6PH_wg, 4wOcvMLtU6a9Lslggq74Vg...</td>\n",
       "      <td>28</td>\n",
       "      <td>...</td>\n",
       "      <td>4</td>\n",
       "      <td>1</td>\n",
       "      <td>6</td>\n",
       "      <td>2</td>\n",
       "      <td>12</td>\n",
       "      <td>16</td>\n",
       "      <td>26</td>\n",
       "      <td>26</td>\n",
       "      <td>10</td>\n",
       "      <td>9</td>\n",
       "    </tr>\n",
       "    <tr>\n",
       "      <th>4</th>\n",
       "      <td>hA5lMy-EnncsH4JoR-hFGQ</td>\n",
       "      <td>Karen</td>\n",
       "      <td>79</td>\n",
       "      <td>2007-01-05 19:40:59</td>\n",
       "      <td>29</td>\n",
       "      <td>15</td>\n",
       "      <td>7</td>\n",
       "      <td>NaN</td>\n",
       "      <td>PBK4q9KEEBHhFvSXCUirIw, 3FWPpM7KU1gXeOM_ZbYMbA...</td>\n",
       "      <td>1</td>\n",
       "      <td>...</td>\n",
       "      <td>1</td>\n",
       "      <td>0</td>\n",
       "      <td>0</td>\n",
       "      <td>0</td>\n",
       "      <td>1</td>\n",
       "      <td>1</td>\n",
       "      <td>0</td>\n",
       "      <td>0</td>\n",
       "      <td>0</td>\n",
       "      <td>0</td>\n",
       "    </tr>\n",
       "  </tbody>\n",
       "</table>\n",
       "<p>5 rows × 22 columns</p>\n",
       "</div>"
      ],
      "text/plain": [
       "                  user_id    name  review_count        yelping_since  useful  \\\n",
       "0  qVc8ODYU5SZjKXVBgXdI7w  Walker           585  2007-01-25 16:47:26    7217   \n",
       "1  j14WgRoU_-2ZE1aw1dXrJg  Daniel          4333  2009-01-25 04:35:42   43091   \n",
       "2  2WnXYQFK0hXEoTxPtV2zvg   Steph           665  2008-07-25 10:41:00    2086   \n",
       "3  SZDeASXq7o05mMNLshsdIA    Gwen           224  2005-11-29 04:38:33     512   \n",
       "4  hA5lMy-EnncsH4JoR-hFGQ   Karen            79  2007-01-05 19:40:59      29   \n",
       "\n",
       "   funny   cool                                              elite  \\\n",
       "0   1259   5994                                               2007   \n",
       "1  13066  27281  2009,2010,2011,2012,2013,2014,2015,2016,2017,2...   \n",
       "2   1010   1003                           2009,2010,2011,2012,2013   \n",
       "3    330    299                                     2009,2010,2011   \n",
       "4     15      7                                                NaN   \n",
       "\n",
       "                                             friends  fans  ...  \\\n",
       "0  NSCy54eWehBJyZdG2iE84w, pe42u7DcCH2QmI81NX-8qA...   267  ...   \n",
       "1  ueRPE0CX75ePGMqOFVj6IQ, 52oH4DrRvzzl8wh5UXyU0A...  3138  ...   \n",
       "2  LuO3Bn4f3rlhyHIaNfTlnA, j9B4XdHUhDfTKVecyWQgyA...    52  ...   \n",
       "3  enx1vVPnfdNUdPho6PH_wg, 4wOcvMLtU6a9Lslggq74Vg...    28  ...   \n",
       "4  PBK4q9KEEBHhFvSXCUirIw, 3FWPpM7KU1gXeOM_ZbYMbA...     1  ...   \n",
       "\n",
       "   compliment_more  compliment_profile  compliment_cute  compliment_list  \\\n",
       "0               65                  55               56               18   \n",
       "1              264                 184              157              251   \n",
       "2               13                  10               17                3   \n",
       "3                4                   1                6                2   \n",
       "4                1                   0                0                0   \n",
       "\n",
       "   compliment_note  compliment_plain  compliment_cool  compliment_funny  \\\n",
       "0              232               844              467               467   \n",
       "1             1847              7054             3131              3131   \n",
       "2               66                96              119               119   \n",
       "3               12                16               26                26   \n",
       "4                1                 1                0                 0   \n",
       "\n",
       "   compliment_writer  compliment_photos  \n",
       "0                239                180  \n",
       "1               1521               1946  \n",
       "2                 35                 18  \n",
       "3                 10                  9  \n",
       "4                  0                  0  \n",
       "\n",
       "[5 rows x 22 columns]"
      ]
     },
     "execution_count": 4,
     "metadata": {},
     "output_type": "execute_result"
    }
   ],
   "source": [
    "import pandas as pd\n",
    "df_users = pd.read_csv('Data/user_output.csv', low_memory=False)\n",
    "print(\"users dataset size:\", df_users.shape)\n",
    "df_users.head()"
   ]
  },
  {
   "cell_type": "code",
   "execution_count": 6,
   "id": "221204a2",
   "metadata": {},
   "outputs": [
    {
     "data": {
      "text/plain": [
       "Index(['user_id', 'name', 'review_count', 'yelping_since', 'useful', 'funny',\n",
       "       'cool', 'elite', 'friends', 'fans', 'average_stars', 'compliment_hot',\n",
       "       'compliment_more', 'compliment_profile', 'compliment_cute',\n",
       "       'compliment_list', 'compliment_note', 'compliment_plain',\n",
       "       'compliment_cool', 'compliment_funny', 'compliment_writer',\n",
       "       'compliment_photos'],\n",
       "      dtype='object')"
      ]
     },
     "execution_count": 6,
     "metadata": {},
     "output_type": "execute_result"
    }
   ],
   "source": [
    "df_users.columns"
   ]
  }
 ],
 "metadata": {
  "kernelspec": {
   "display_name": "Python 3",
   "language": "python",
   "name": "python3"
  },
  "language_info": {
   "codemirror_mode": {
    "name": "ipython",
    "version": 3
   },
   "file_extension": ".py",
   "mimetype": "text/x-python",
   "name": "python",
   "nbconvert_exporter": "python",
   "pygments_lexer": "ipython3",
   "version": "3.13.7"
  }
 },
 "nbformat": 4,
 "nbformat_minor": 5
}
