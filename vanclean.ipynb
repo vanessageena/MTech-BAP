{
 "cells": [
  {
   "cell_type": "markdown",
   "id": "1e385262",
   "metadata": {},
   "source": [
    "# Yelp project BAP"
   ]
  },
  {
   "cell_type": "code",
   "execution_count": 2,
   "id": "05055a51",
   "metadata": {},
   "outputs": [
    {
     "ename": "ModuleNotFoundError",
     "evalue": "No module named 'pandas'",
     "output_type": "error",
     "traceback": [
      "\u001b[31m---------------------------------------------------------------------------\u001b[39m",
      "\u001b[31mModuleNotFoundError\u001b[39m                       Traceback (most recent call last)",
      "\u001b[36mCell\u001b[39m\u001b[36m \u001b[39m\u001b[32mIn[2]\u001b[39m\u001b[32m, line 2\u001b[39m\n\u001b[32m      1\u001b[39m \u001b[38;5;28;01mimport\u001b[39;00m\u001b[38;5;250m \u001b[39m\u001b[34;01mos\u001b[39;00m\n\u001b[32m----> \u001b[39m\u001b[32m2\u001b[39m \u001b[38;5;28;01mimport\u001b[39;00m\u001b[38;5;250m \u001b[39m\u001b[34;01mpandas\u001b[39;00m\u001b[38;5;250m \u001b[39m\u001b[38;5;28;01mas\u001b[39;00m\u001b[38;5;250m \u001b[39m\u001b[34;01mpd\u001b[39;00m\n",
      "\u001b[31mModuleNotFoundError\u001b[39m: No module named 'pandas'"
     ]
    }
   ],
   "source": [
    "import os\n",
    "import pandas as pd"
   ]
  },
  {
   "cell_type": "markdown",
   "id": "17e1cb6b",
   "metadata": {},
   "source": [
    "## reviews dataset"
   ]
  },
  {
   "cell_type": "code",
   "execution_count": 4,
   "id": "3bb58994",
   "metadata": {},
   "outputs": [
    {
     "name": "stdout",
     "output_type": "stream",
     "text": [
      "/Users/mare/Downloads/BAP_data\n"
     ]
    }
   ],
   "source": [
    "print(os.getcwd())"
   ]
  },
  {
   "cell_type": "code",
   "execution_count": 5,
   "id": "ebb55489",
   "metadata": {},
   "outputs": [
    {
     "name": "stdout",
     "output_type": "stream",
     "text": [
      "size of reviews dataset:: 2\n",
      "                review_id                 user_id             business_id  \\\n",
      "0  KU_O5udG6zpxOg-VcAEodg  mh_-eMZ6K5RLWhZyISBhwA  XQfwVwDr-v0ZS3_CbbE5Xw   \n",
      "1  BiTunyQ73aT9WBnpR9DZGw  OyoGAe7OKpv6SyGZT5g77Q  7ATYjTIgM3jUlt4UM3IypQ   \n",
      "2  saUsX_uimxRlCVr67Z4Jig  8g_iMtfSiwikVnbP2etR0A  YjUWPpI6HXG530lwP-fb2A   \n",
      "3  AqPFMleE6RsU23_auESxiA  _7bHUi9Uuf5__HHc_Q8guQ  kxX2SOes4o-D3ZQBkiMRfA   \n",
      "4  Sx8TMOWLNuJBWer-0pcmoA  bcjbaE6dDog4jkNY91ncLQ  e4Vwtrqf-wpJfwesgvdgxQ   \n",
      "\n",
      "   stars  useful  funny  cool  \\\n",
      "0    3.0       0      0     0   \n",
      "1    5.0       1      0     1   \n",
      "2    3.0       0      0     0   \n",
      "3    5.0       1      0     1   \n",
      "4    4.0       1      0     1   \n",
      "\n",
      "                                                text                 date  \n",
      "0  If you decide to eat here, just be aware it is...  2018-07-07 22:09:11  \n",
      "1  I've taken a lot of spin classes over the year...  2012-01-03 15:28:18  \n",
      "2  Family diner. Had the buffet. Eclectic assortm...  2014-02-05 20:30:30  \n",
      "3  Wow!  Yummy, different,  delicious.   Our favo...  2015-01-04 00:01:03  \n",
      "4  Cute interior and owner (?) gave us tour of up...  2017-01-14 20:54:15  \n",
      "size of daniel reviews dataset:: 2\n",
      "                review_id                 user_id             business_id  \\\n",
      "0  KU_O5udG6zpxOg-VcAEodg  mh_-eMZ6K5RLWhZyISBhwA  XQfwVwDr-v0ZS3_CbbE5Xw   \n",
      "1  Sx8TMOWLNuJBWer-0pcmoA  bcjbaE6dDog4jkNY91ncLQ  e4Vwtrqf-wpJfwesgvdgxQ   \n",
      "2  lUUhg8ltDsUZ9h0xnwY4Dg  RreNy--tOmXMl1en0wiBOg  cPepkJeRMtHapc_b2Oe_dw   \n",
      "3  -P5E9BYUaK7s3PwBF5oAyg  Jha0USGDMefGFRLik_xFQg  bMratNjTG5ZFEA6hVyr-xQ   \n",
      "4  YbMyvlDA2W3Py5lTz8VK-A  4hBhtCSgoxkrFgHa4YAD-w  bbEXAEFr4RYHLlZ-HFssTA   \n",
      "\n",
      "   stars  useful  funny  cool  \\\n",
      "0      3       0      0     0   \n",
      "1      4       1      0     1   \n",
      "2      4       1      0     1   \n",
      "3      5       0      0     0   \n",
      "4      5       0      0     0   \n",
      "\n",
      "                                                text        date  \n",
      "0  If you decide to eat here, just be aware it is...  2018-07-07  \n",
      "1  Cute interior and owner (?) gave us tour of up...  2017-01-14  \n",
      "2  I was really between 3 and 4 stars for this on...  2018-07-16  \n",
      "3  First time there and it was excellent!!! It fe...  2017-02-19  \n",
      "4  Great burgers,fries and salad!  Burgers have a...  2017-01-01  \n"
     ]
    }
   ],
   "source": [
    "df_reviews = pd.read_csv('review_output.csv')\n",
    "df_daniel_reviews = pd.read_csv('filtered_yelp_reviews_2017_2022.csv')\n",
    "print('size of reviews dataset::', len(df_reviews.shape))\n",
    "print(df_reviews.head())\n",
    "print('size of daniel reviews dataset::', len(df_daniel_reviews.shape))\n",
    "print(df_daniel_reviews.head())"
   ]
  },
  {
   "cell_type": "code",
   "execution_count": 8,
   "id": "73e315aa",
   "metadata": {},
   "outputs": [
    {
     "data": {
      "text/plain": [
       "Index(['review_id', 'user_id', 'business_id', 'stars', 'useful', 'funny',\n",
       "       'cool', 'text', 'date'],\n",
       "      dtype='object')"
      ]
     },
     "execution_count": 8,
     "metadata": {},
     "output_type": "execute_result"
    }
   ],
   "source": [
    "df_reviews.columns"
   ]
  },
  {
   "cell_type": "code",
   "execution_count": 13,
   "id": "443df8e1",
   "metadata": {},
   "outputs": [
    {
     "data": {
      "text/plain": [
       "\"My experience with Shalimar was nothing but wonderful. \\nI wanted to get my engagement ring sized and was told over the phone that it could probably be done within the day. \\nWhen I brought it by, the team confirmed that the jeweler would be able to accommodate my same-day request and that it would be around $40 (simple band, decrease by three full sizes).\\nI checked my size one more time, confirmed, and left to let them do their thing.\\nWhen I came to pick up later that afternoon, the ring was too small. It's very important to note that Shalimar sized the ring perfectly, but that I made a mistake and should've gone up a half-size.\\nThe Shalimar group were completely understanding and accommodating, even resizing my ring back up and getting it back to me within an hour at no charge! Even though it was my mistake!\\nThe associates' attitudes in dealing with what was a pretty embarrassing situation instantly earned my satisfaction and loyalty as a customer. Very grateful for such a wonderful experience.\""
      ]
     },
     "execution_count": 13,
     "metadata": {},
     "output_type": "execute_result"
    }
   ],
   "source": [
    "df_reviews.iloc[10][\"text\"]"
   ]
  },
  {
   "cell_type": "markdown",
   "id": "598d58b9",
   "metadata": {},
   "source": [
    "### Data description for review dataset\n",
    "#### Each row represents a single review left by a user for a business.\n",
    "\n",
    "1. review_id: Unique identifier for each review (string).\n",
    "2. user_id: Unique identifier for the user who wrote the review (string).\n",
    "3. business_id: Unique identifier for the business being reviewed (string).\n",
    "4. stars: Star rating given by the user (float, typically 1.0 to 5.0).\n",
    "5. useful: Number of users who marked the review as useful (integer).\n",
    "6. funny: Number of users who marked the review as funny (integer).\n",
    "7. cool: Number of users who marked the review as cool (integer).\n",
    "8. text: Full text of the review written by the user (string).\n",
    "9. date: Date and time when the review was posted (datetime, format: YYYY-MM-DD HH:MM:SS)."
   ]
  },
  {
   "cell_type": "code",
   "execution_count": 14,
   "id": "17ded381",
   "metadata": {},
   "outputs": [],
   "source": [
    "# make a copy and clean up special characters from \"text\" column to clean up the noise for \n",
    "# better accuracy in tokenization, word frequency counts, and sentiment analysis afterwards\n",
    "df_reviews_cleaned = df_reviews.copy()\n",
    "df_reviews_cleaned['text'] = df_reviews_cleaned['text'].str.replace('[^\\w\\s]', '', regex=True)"
   ]
  },
  {
   "cell_type": "code",
   "execution_count": 15,
   "id": "fa81c378",
   "metadata": {},
   "outputs": [
    {
     "name": "stdout",
     "output_type": "stream",
     "text": [
      "2\n",
      "[2018 2017 2019 2020 2021 2022]\n"
     ]
    }
   ],
   "source": [
    "# filter to only recent 5 years \n",
    "df_reviews_cleaned['year'] = pd.to_datetime(df_reviews_cleaned['date']).dt.year\n",
    "df_reviews_cleaned = df_reviews_cleaned[(df_reviews_cleaned['year'] >= 2017) & (df_reviews_cleaned['year'] <= 2022)]\n",
    "print(len(df_reviews_cleaned.shape))\n",
    "print(df_reviews_cleaned['year'].unique())"
   ]
  },
  {
   "cell_type": "code",
   "execution_count": 5,
   "id": "f665add4",
   "metadata": {},
   "outputs": [
    {
     "name": "stdout",
     "output_type": "stream",
     "text": [
      "Available RAM: 0.29 GB\n"
     ]
    }
   ],
   "source": [
    "import psutil\n",
    "print(f\"Available RAM: {psutil.virtual_memory().available / (1024 ** 3):.2f} GB\")"
   ]
  },
  {
   "cell_type": "code",
   "execution_count": 1,
   "id": "a06215d9",
   "metadata": {},
   "outputs": [
    {
     "ename": "NameError",
     "evalue": "name 'df_reviews' is not defined",
     "output_type": "error",
     "traceback": [
      "\u001b[0;31m---------------------------------------------------------------------------\u001b[0m",
      "\u001b[0;31mNameError\u001b[0m                                 Traceback (most recent call last)",
      "Cell \u001b[0;32mIn[1], line 2\u001b[0m\n\u001b[1;32m      1\u001b[0m \u001b[38;5;66;03m# print(len(df_reviews_cleaned))\u001b[39;00m\n\u001b[0;32m----> 2\u001b[0m \u001b[43mdf_reviews\u001b[49m\u001b[38;5;241m.\u001b[39mhead(\u001b[38;5;241m4\u001b[39m)\n",
      "\u001b[0;31mNameError\u001b[0m: name 'df_reviews' is not defined"
     ]
    }
   ],
   "source": [
    "# print(len(df_reviews_cleaned))\n",
    "df_reviews.head(4)"
   ]
  },
  {
   "cell_type": "code",
   "execution_count": null,
   "id": "3845a539",
   "metadata": {},
   "outputs": [],
   "source": [
    "df_reviews['date'] = pd.to_datetime(df_reviews['date'])\n",
    "df_reviews = df_reviews[(df_reviews['date'] >= '2017-01-01') & (df_reviews['date'] <= '2022-12-31')]"
   ]
  },
  {
   "cell_type": "markdown",
   "id": "64dc934b",
   "metadata": {},
   "source": [
    "## business dataset"
   ]
  }
 ],
 "metadata": {
  "kernelspec": {
   "display_name": "Python 3",
   "language": "python",
   "name": "python3"
  },
  "language_info": {
   "codemirror_mode": {
    "name": "ipython",
    "version": 3
   },
   "file_extension": ".py",
   "mimetype": "text/x-python",
   "name": "python",
   "nbconvert_exporter": "python",
   "pygments_lexer": "ipython3",
   "version": "3.13.7"
  }
 },
 "nbformat": 4,
 "nbformat_minor": 5
}
