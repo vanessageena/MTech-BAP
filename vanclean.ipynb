{
 "cells": [
  {
   "cell_type": "markdown",
   "id": "1e385262",
   "metadata": {},
   "source": [
    "# Yelp project BAP"
   ]
  },
  {
   "cell_type": "code",
   "execution_count": 4,
   "id": "05055a51",
   "metadata": {},
   "outputs": [],
   "source": [
    "import os\n",
    "import pandas as pd"
   ]
  },
  {
   "cell_type": "markdown",
   "id": "17e1cb6b",
   "metadata": {},
   "source": [
    "## reviews dataset"
   ]
  },
  {
   "cell_type": "code",
   "execution_count": 5,
   "id": "3bb58994",
   "metadata": {},
   "outputs": [
    {
     "name": "stdout",
     "output_type": "stream",
     "text": [
      "/Users/mare/Downloads/BAP_project_2025sem2/MTech-BAP\n"
     ]
    }
   ],
   "source": [
    "print(os.getcwd())"
   ]
  },
  {
   "cell_type": "code",
   "execution_count": 6,
   "id": "ebb55489",
   "metadata": {},
   "outputs": [
    {
     "name": "stdout",
     "output_type": "stream",
     "text": [
      "size of reviews dataset:: 2\n",
      "                review_id                 user_id             business_id  \\\n",
      "0  KU_O5udG6zpxOg-VcAEodg  mh_-eMZ6K5RLWhZyISBhwA  XQfwVwDr-v0ZS3_CbbE5Xw   \n",
      "1  BiTunyQ73aT9WBnpR9DZGw  OyoGAe7OKpv6SyGZT5g77Q  7ATYjTIgM3jUlt4UM3IypQ   \n",
      "2  saUsX_uimxRlCVr67Z4Jig  8g_iMtfSiwikVnbP2etR0A  YjUWPpI6HXG530lwP-fb2A   \n",
      "3  AqPFMleE6RsU23_auESxiA  _7bHUi9Uuf5__HHc_Q8guQ  kxX2SOes4o-D3ZQBkiMRfA   \n",
      "4  Sx8TMOWLNuJBWer-0pcmoA  bcjbaE6dDog4jkNY91ncLQ  e4Vwtrqf-wpJfwesgvdgxQ   \n",
      "\n",
      "   stars  useful  funny  cool  \\\n",
      "0    3.0       0      0     0   \n",
      "1    5.0       1      0     1   \n",
      "2    3.0       0      0     0   \n",
      "3    5.0       1      0     1   \n",
      "4    4.0       1      0     1   \n",
      "\n",
      "                                                text                 date  \n",
      "0  If you decide to eat here, just be aware it is...  2018-07-07 22:09:11  \n",
      "1  I've taken a lot of spin classes over the year...  2012-01-03 15:28:18  \n",
      "2  Family diner. Had the buffet. Eclectic assortm...  2014-02-05 20:30:30  \n",
      "3  Wow!  Yummy, different,  delicious.   Our favo...  2015-01-04 00:01:03  \n",
      "4  Cute interior and owner (?) gave us tour of up...  2017-01-14 20:54:15  \n",
      "size of daniel reviews dataset:: 2\n",
      "                review_id                 user_id             business_id  \\\n",
      "0  KU_O5udG6zpxOg-VcAEodg  mh_-eMZ6K5RLWhZyISBhwA  XQfwVwDr-v0ZS3_CbbE5Xw   \n",
      "1  Sx8TMOWLNuJBWer-0pcmoA  bcjbaE6dDog4jkNY91ncLQ  e4Vwtrqf-wpJfwesgvdgxQ   \n",
      "2  lUUhg8ltDsUZ9h0xnwY4Dg  RreNy--tOmXMl1en0wiBOg  cPepkJeRMtHapc_b2Oe_dw   \n",
      "3  -P5E9BYUaK7s3PwBF5oAyg  Jha0USGDMefGFRLik_xFQg  bMratNjTG5ZFEA6hVyr-xQ   \n",
      "4  YbMyvlDA2W3Py5lTz8VK-A  4hBhtCSgoxkrFgHa4YAD-w  bbEXAEFr4RYHLlZ-HFssTA   \n",
      "\n",
      "   stars  useful  funny  cool  \\\n",
      "0      3       0      0     0   \n",
      "1      4       1      0     1   \n",
      "2      4       1      0     1   \n",
      "3      5       0      0     0   \n",
      "4      5       0      0     0   \n",
      "\n",
      "                                                text        date  \n",
      "0  If you decide to eat here, just be aware it is...  2018-07-07  \n",
      "1  Cute interior and owner (?) gave us tour of up...  2017-01-14  \n",
      "2  I was really between 3 and 4 stars for this on...  2018-07-16  \n",
      "3  First time there and it was excellent!!! It fe...  2017-02-19  \n",
      "4  Great burgers,fries and salad!  Burgers have a...  2017-01-01  \n"
     ]
    }
   ],
   "source": [
    "df_reviews = pd.read_csv('review_output.csv')\n",
    "df_daniel_reviews = pd.read_csv('filtered_yelp_reviews_2017_2022.csv')\n",
    "print('size of reviews dataset::', len(df_reviews.shape))\n",
    "print(df_reviews.head())\n",
    "print('size of daniel reviews dataset::', len(df_daniel_reviews.shape))\n",
    "print(df_daniel_reviews.head())"
   ]
  },
  {
   "cell_type": "code",
   "execution_count": 7,
   "id": "73e315aa",
   "metadata": {},
   "outputs": [
    {
     "name": "stdout",
     "output_type": "stream",
     "text": [
      "<class 'pandas.core.frame.DataFrame'>\n",
      "RangeIndex: 6990280 entries, 0 to 6990279\n",
      "Data columns (total 9 columns):\n",
      " #   Column       Dtype  \n",
      "---  ------       -----  \n",
      " 0   review_id    object \n",
      " 1   user_id      object \n",
      " 2   business_id  object \n",
      " 3   stars        float64\n",
      " 4   useful       int64  \n",
      " 5   funny        int64  \n",
      " 6   cool         int64  \n",
      " 7   text         object \n",
      " 8   date         object \n",
      "dtypes: float64(1), int64(3), object(5)\n",
      "memory usage: 480.0+ MB\n"
     ]
    }
   ],
   "source": [
    "df_reviews.info()"
   ]
  },
  {
   "cell_type": "code",
   "execution_count": 11,
   "id": "5887d8a9",
   "metadata": {},
   "outputs": [
    {
     "data": {
      "text/plain": [
       "stars\n",
       "5.0    3231627\n",
       "4.0    1452918\n",
       "1.0    1069561\n",
       "3.0     691934\n",
       "2.0     544240\n",
       "Name: count, dtype: int64"
      ]
     },
     "execution_count": 11,
     "metadata": {},
     "output_type": "execute_result"
    }
   ],
   "source": [
    "df_reviews['stars'].value_counts()"
   ]
  },
  {
   "cell_type": "code",
   "execution_count": 8,
   "id": "443df8e1",
   "metadata": {},
   "outputs": [
    {
     "data": {
      "text/plain": [
       "\"My experience with Shalimar was nothing but wonderful. \\nI wanted to get my engagement ring sized and was told over the phone that it could probably be done within the day. \\nWhen I brought it by, the team confirmed that the jeweler would be able to accommodate my same-day request and that it would be around $40 (simple band, decrease by three full sizes).\\nI checked my size one more time, confirmed, and left to let them do their thing.\\nWhen I came to pick up later that afternoon, the ring was too small. It's very important to note that Shalimar sized the ring perfectly, but that I made a mistake and should've gone up a half-size.\\nThe Shalimar group were completely understanding and accommodating, even resizing my ring back up and getting it back to me within an hour at no charge! Even though it was my mistake!\\nThe associates' attitudes in dealing with what was a pretty embarrassing situation instantly earned my satisfaction and loyalty as a customer. Very grateful for such a wonderful experience.\""
      ]
     },
     "execution_count": 8,
     "metadata": {},
     "output_type": "execute_result"
    }
   ],
   "source": [
    "df_reviews.iloc[10][\"text\"]"
   ]
  },
  {
   "cell_type": "markdown",
   "id": "598d58b9",
   "metadata": {},
   "source": [
    "### Data description for review dataset\n",
    "#### Each row represents a single review left by a user for a business.\n",
    "\n",
    "1. review_id: Unique identifier for each review (string).\n",
    "2. user_id: Unique identifier for the user who wrote the review (string).\n",
    "3. business_id: Unique identifier for the business being reviewed (string).\n",
    "4. stars: Star rating given by the user (float, typically 1.0 to 5.0).\n",
    "5. useful: Number of users who marked the review as useful (integer).\n",
    "6. funny: Number of users who marked the review as funny (integer).\n",
    "7. cool: Number of users who marked the review as cool (integer).\n",
    "8. text: Full text of the review written by the user (string).\n",
    "9. date: Date and time when the review was posted (datetime, format: YYYY-MM-DD HH:MM:SS)."
   ]
  },
  {
   "cell_type": "code",
   "execution_count": 18,
   "id": "4c113a78",
   "metadata": {},
   "outputs": [],
   "source": [
    "df_reviews_filtered = df_reviews.copy()"
   ]
  },
  {
   "cell_type": "code",
   "execution_count": 19,
   "id": "fa81c378",
   "metadata": {},
   "outputs": [
    {
     "name": "stdout",
     "output_type": "stream",
     "text": [
      "(3838105, 10)\n",
      "[2018 2017 2019 2020 2021 2022]\n"
     ]
    }
   ],
   "source": [
    "# filter to only recent 5 years \n",
    "df_reviews_filtered['year'] = pd.to_datetime(df_reviews_filtered['date']).dt.year\n",
    "df_reviews_filtered = df_reviews_filtered[(df_reviews_filtered['year'] >= 2017) & (df_reviews_filtered['year'] <= 2022)]\n",
    "print(df_reviews_filtered.shape)\n",
    "print(df_reviews_filtered['year'].unique())"
   ]
  },
  {
   "cell_type": "code",
   "execution_count": 20,
   "id": "eeedc3ab",
   "metadata": {},
   "outputs": [
    {
     "name": "stdout",
     "output_type": "stream",
     "text": [
      "daniel's filtered yelp review dataset (1174907, 9)\n",
      "current version of filtered dataset (3838105, 10)\n"
     ]
    }
   ],
   "source": [
    "# comparing dataset length with `filtered_yelp_reviews_2017_2022.csv`\n",
    "print(\"daniel's filtered yelp review dataset\",df_daniel_reviews.shape)\n",
    "print(\"current version of filtered dataset\",df_reviews_filtered.shape)"
   ]
  },
  {
   "cell_type": "markdown",
   "id": "28e760f5",
   "metadata": {},
   "source": [
    "### Basic data cleaning"
   ]
  },
  {
   "cell_type": "code",
   "execution_count": null,
   "id": "ff1a8712",
   "metadata": {},
   "outputs": [
    {
     "data": {
      "text/plain": [
       "review_id      0\n",
       "user_id        0\n",
       "business_id    0\n",
       "stars          0\n",
       "useful         0\n",
       "funny          0\n",
       "cool           0\n",
       "text           0\n",
       "date           0\n",
       "year           0\n",
       "dtype: int64"
      ]
     },
     "execution_count": 21,
     "metadata": {},
     "output_type": "execute_result"
    }
   ],
   "source": [
    "df_reviews_cleaned = df_reviews_filtered.copy()\n",
    "## handle missing and invalid data\n",
    "df_reviews_cleaned.isna().sum()\n",
    "# (df_reviews_cleaned['stars'] == '').any()"
   ]
  },
  {
   "cell_type": "code",
   "execution_count": 28,
   "id": "d6d97896",
   "metadata": {},
   "outputs": [
    {
     "data": {
      "text/plain": [
       "review_id      0\n",
       "user_id        0\n",
       "business_id    0\n",
       "stars          0\n",
       "useful         0\n",
       "funny          0\n",
       "cool           0\n",
       "text           0\n",
       "date           0\n",
       "year           0\n",
       "dtype: int64"
      ]
     },
     "execution_count": 28,
     "metadata": {},
     "output_type": "execute_result"
    }
   ],
   "source": [
    "# convert important columns to correct data formats\n",
    "type_map = {\n",
    "    'user_id': str,\n",
    "    'review_id': str,\n",
    "    'business_id': str,\n",
    "    'text': str,\n",
    "    'stars': int\n",
    "}\n",
    "df_reviews_cleaned = df_reviews_cleaned.astype(type_map)\n",
    "df_reviews_cleaned.isna().sum() # check for na again"
   ]
  },
  {
   "cell_type": "code",
   "execution_count": 30,
   "id": "efbfe8d5",
   "metadata": {},
   "outputs": [
    {
     "data": {
      "text/plain": [
       "np.int64(5)"
      ]
     },
     "execution_count": 30,
     "metadata": {},
     "output_type": "execute_result"
    }
   ],
   "source": [
    "df_reviews_cleaned.iloc[13]['stars']"
   ]
  },
  {
   "cell_type": "code",
   "execution_count": 31,
   "id": "e6695de5",
   "metadata": {},
   "outputs": [
    {
     "data": {
      "text/html": [
       "<div>\n",
       "<style scoped>\n",
       "    .dataframe tbody tr th:only-of-type {\n",
       "        vertical-align: middle;\n",
       "    }\n",
       "\n",
       "    .dataframe tbody tr th {\n",
       "        vertical-align: top;\n",
       "    }\n",
       "\n",
       "    .dataframe thead th {\n",
       "        text-align: right;\n",
       "    }\n",
       "</style>\n",
       "<table border=\"1\" class=\"dataframe\">\n",
       "  <thead>\n",
       "    <tr style=\"text-align: right;\">\n",
       "      <th></th>\n",
       "      <th>1.0</th>\n",
       "      <th>2.0</th>\n",
       "      <th>3.0</th>\n",
       "      <th>4.0</th>\n",
       "      <th>5.0</th>\n",
       "    </tr>\n",
       "  </thead>\n",
       "  <tbody>\n",
       "    <tr>\n",
       "      <th>0</th>\n",
       "      <td>False</td>\n",
       "      <td>False</td>\n",
       "      <td>True</td>\n",
       "      <td>False</td>\n",
       "      <td>False</td>\n",
       "    </tr>\n",
       "    <tr>\n",
       "      <th>4</th>\n",
       "      <td>False</td>\n",
       "      <td>False</td>\n",
       "      <td>False</td>\n",
       "      <td>True</td>\n",
       "      <td>False</td>\n",
       "    </tr>\n",
       "    <tr>\n",
       "      <th>24</th>\n",
       "      <td>False</td>\n",
       "      <td>False</td>\n",
       "      <td>False</td>\n",
       "      <td>True</td>\n",
       "      <td>False</td>\n",
       "    </tr>\n",
       "    <tr>\n",
       "      <th>30</th>\n",
       "      <td>False</td>\n",
       "      <td>False</td>\n",
       "      <td>False</td>\n",
       "      <td>False</td>\n",
       "      <td>True</td>\n",
       "    </tr>\n",
       "    <tr>\n",
       "      <th>31</th>\n",
       "      <td>False</td>\n",
       "      <td>False</td>\n",
       "      <td>False</td>\n",
       "      <td>False</td>\n",
       "      <td>True</td>\n",
       "    </tr>\n",
       "  </tbody>\n",
       "</table>\n",
       "</div>"
      ],
      "text/plain": [
       "      1.0    2.0    3.0    4.0    5.0\n",
       "0   False  False   True  False  False\n",
       "4   False  False  False   True  False\n",
       "24  False  False  False   True  False\n",
       "30  False  False  False  False   True\n",
       "31  False  False  False  False   True"
      ]
     },
     "execution_count": 31,
     "metadata": {},
     "output_type": "execute_result"
    }
   ],
   "source": [
    "dummies = pd.get_dummies(df_reviews_filtered['stars'])\n",
    "dummies.head()"
   ]
  },
  {
   "cell_type": "code",
   "execution_count": 32,
   "id": "835d69fe",
   "metadata": {},
   "outputs": [
    {
     "data": {
      "text/plain": [
       "(3838105, 10)"
      ]
     },
     "execution_count": 32,
     "metadata": {},
     "output_type": "execute_result"
    }
   ],
   "source": [
    "df_reviews_cleaned = df_reviews_cleaned.dropna(subset=['text'])\n",
    "# remove empty or whitespace-only text cell values\n",
    "df_reviews_cleaned = df_reviews_cleaned[df_reviews_cleaned['text'].str.strip() != '']\n",
    "df_reviews_cleaned.shape"
   ]
  },
  {
   "cell_type": "code",
   "execution_count": 35,
   "id": "f615bfa1",
   "metadata": {},
   "outputs": [
    {
     "name": "stdout",
     "output_type": "stream",
     "text": [
      "stars rating in reviews data is lowest at:  1\n",
      "stars rating in reviews data is highest at:  5\n"
     ]
    }
   ],
   "source": [
    "# check range of 'stars' rating column in case of out-of-range values\n",
    "print(\"stars rating in reviews data is lowest at: \", df_reviews_cleaned['stars'].min())\n",
    "print(\"stars rating in reviews data is highest at: \", df_reviews_cleaned['stars'].max())"
   ]
  },
  {
   "cell_type": "code",
   "execution_count": 36,
   "id": "9b24844b",
   "metadata": {},
   "outputs": [],
   "source": [
    "# -- standardization and normalization --\n",
    "# convert text to lowercase and remove special characters\n",
    "df_reviews_cleaned['text'] = df_reviews_cleaned['text'].str.lower()\n",
    "df_reviews_cleaned['text'] = df_reviews_cleaned['text'].str.replace(r'\\W', ' ', regex=True)\n",
    "df_reviews_cleaned.head(6)"
   ]
  },
  {
   "cell_type": "code",
   "execution_count": null,
   "id": "122d3ea5",
   "metadata": {},
   "outputs": [],
   "source": [
    "# drop duplicate rows.\n",
    "df_reviews_cleaned = df_reviews_cleaned.drop_duplicates()\n",
    "df_reviews_cleaned.shape\n",
    "# Detect and handle outliers using statistical methods or domain knowledge."
   ]
  },
  {
   "cell_type": "markdown",
   "id": "64dc934b",
   "metadata": {},
   "source": [
    "## business dataset"
   ]
  }
 ],
 "metadata": {
  "kernelspec": {
   "display_name": "Python 3",
   "language": "python",
   "name": "python3"
  },
  "language_info": {
   "codemirror_mode": {
    "name": "ipython",
    "version": 3
   },
   "file_extension": ".py",
   "mimetype": "text/x-python",
   "name": "python",
   "nbconvert_exporter": "python",
   "pygments_lexer": "ipython3",
   "version": "3.13.7"
  }
 },
 "nbformat": 4,
 "nbformat_minor": 5
}
